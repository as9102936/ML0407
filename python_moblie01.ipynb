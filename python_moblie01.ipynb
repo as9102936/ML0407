{
 "cells": [
  {
   "cell_type": "code",
   "execution_count": 1,
   "metadata": {},
   "outputs": [],
   "source": [
    "import requests\n",
    "from bs4 import BeautifulSoup\n",
    "import pandas as pd\n",
    "from urllib.parse import urlparse, parse_qs, urlunparse"
   ]
  },
  {
   "cell_type": "code",
   "execution_count": 2,
   "metadata": {},
   "outputs": [],
   "source": [
    "page = requests.get(\"https://www.mobile01.com/topiclist.php?f=689\",\n",
    "                 headers = {\"user-agent\":\"Mozilla/5.0 (Windows NT 10.0; Win64; x64) AppleWebKit/537.36 (KHTML, like Gecko) Chrome/80.0.3987.163 Safari/537.36\"})"
   ]
  },
  {
   "cell_type": "code",
   "execution_count": 62,
   "metadata": {},
   "outputs": [
    {
     "name": "stdout",
     "output_type": "stream",
     "text": [
      "['https://www.mobile01.com/topicdetail.php?f=689&t=6073936', 'https://www.mobile01.com/topicdetail.php?f=689&t=6065815', 'https://www.mobile01.com/topicdetail.php?f=689&t=6074012', 'https://www.mobile01.com/topicdetail.php?f=689&t=6068401', 'https://www.mobile01.com/topicdetail.php?f=689&t=6071899', 'https://www.mobile01.com/topicdetail.php?f=689&t=6073753', 'https://www.mobile01.com/topicdetail.php?f=689&t=6060231', 'https://www.mobile01.com/topicdetail.php?f=689&t=6073597', 'https://www.mobile01.com/topicdetail.php?f=689&t=6049573', 'https://www.mobile01.com/topicdetail.php?f=689&t=6061515', 'https://www.mobile01.com/topicdetail.php?f=689&t=6072511', 'https://www.mobile01.com/topicdetail.php?f=689&t=6071550', 'https://www.mobile01.com/topicdetail.php?f=689&t=6057628', 'https://www.mobile01.com/topicdetail.php?f=689&t=5930939', 'https://www.mobile01.com/topicdetail.php?f=689&t=6063005', 'https://www.mobile01.com/topicdetail.php?f=689&t=5909841', 'https://www.mobile01.com/topicdetail.php?f=689&t=5977767', 'https://www.mobile01.com/topicdetail.php?f=689&t=6072440', 'https://www.mobile01.com/topicdetail.php?f=689&t=6072429', 'https://www.mobile01.com/topicdetail.php?f=689&t=6061038', 'https://www.mobile01.com/topicdetail.php?f=689&t=6069185', 'https://www.mobile01.com/topicdetail.php?f=689&t=6071052', 'https://www.mobile01.com/topicdetail.php?f=689&t=6071817', 'https://www.mobile01.com/topicdetail.php?f=689&t=6052702', 'https://www.mobile01.com/topicdetail.php?f=689&t=6069864', 'https://www.mobile01.com/topicdetail.php?f=689&t=6071311', 'https://www.mobile01.com/topicdetail.php?f=689&t=6067630', 'https://www.mobile01.com/topicdetail.php?f=689&t=6069345', 'https://www.mobile01.com/topicdetail.php?f=689&t=6070163', 'https://www.mobile01.com/topicdetail.php?f=689&t=6069925']\n"
     ]
    }
   ],
   "source": [
    "soup = BeautifulSoup(page.text, 'html.parser')\n",
    "a_tag = soup.select(\".c-listTableTd__title a.c-link\")\n",
    "#文章網址\n",
    "URL_text = []\n",
    "for k in a_tag:\n",
    "    URL_text.append('https://www.mobile01.com/' + k[\"href\"])\n",
    "    # print(k[\"href\"])\n",
    "print(URL_text)"
   ]
  },
  {
   "cell_type": "code",
   "execution_count": 38,
   "metadata": {},
   "outputs": [
    {
     "name": "stdout",
     "output_type": "stream",
     "text": [
      "['XT升級 realme ui電力影響', 'find x2 pro 使用一週心得及照片續行分享', 'realme三月是台灣銷售量第六大品牌', 'OPPO Ace2電競旗艦揭曉 不僅輕薄、還有40W無線充電！', 'OPPO Find X2 Pro 緞黑 低調開箱', '請問realme XT出廠時是否已經貼螢幕保護貼??', '請問大家 RENO 10x Zoom 開直播 充電問題 (有線3.5mm 轉耳機孔同時充電)', '大陸手機在中國跟台灣時區顯示會不一樣嗎', 'OPPO Find X2 Pro 不耍花招的「質樸」高材生', '請益：realmeXT color OS 更新android10後，是否容易變慢？', '[#2 答] 任務鍵 App 切換的居中顯示？', 'Reno 10x (CPH1919) 印度已可OTA 至 Android 10', '台版 realme XT 更新 Android 10', '起價4,500有找！realme 5 / 5 Pro / XT四眼機登場 最快10/25開賣', 'Realme Q升級realme ui 1.0 bug', '關於海外購買realme問題', '12月中了台灣還是不上市，該是來分享realme X2 Pro心得(109.4.9起已可更新至Android 10、realme ui 1.0)', 'Oppo A5 2020 為什麼不能下載youtube', '新買的xt這樣請問正常？(幽靈指?)', 'realme 5 pro試拍', 'OPPO Reno 2 還會再生產嗎?', 'realme 3 Pro和5 Pro手機殼能通用嗎？', 'realme XT 的Line通話來電', 'OPPO Find X2 Pro / Samsung S20 Ultra 相機比較：實用與浪漫的思辨！', '有 find x2 pro台灣上市的消息嗎？', 'oppo耳機折扣碼現折250', '為何OPPO Reno 10 倍變焦版, 市面上缺貨啊?', '手機自己傳簡訊？', '開箱Realme Buds Air│真無線藍芽耳機㊣電競模式零延遲', 'realme手機有簡易模式嗎?']\n"
     ]
    }
   ],
   "source": [
    "# 標題\n",
    "title_text = []\n",
    "a_tag = soup.select(\".c-listTableTd__title a.c-link\")\n",
    "for i in a_tag:\n",
    "    title_text.append(i.text)\n",
    "print(title_text)"
   ]
  },
  {
   "cell_type": "code",
   "execution_count": 42,
   "metadata": {},
   "outputs": [
    {
     "name": "stdout",
     "output_type": "stream",
     "text": [
      "['2020-04-21 0:41', '2020-04-10 11:28', '2020-04-21 8:00', '2020-04-13 20:40', '2020-04-18 3:55', '2020-04-20 19:40', '2020-04-02 22:18', '2020-04-20 16:39', '2020-03-20 10:17', '2020-04-04 18:06', '2020-04-19 5:13', '2020-04-17 16:14', '2020-03-30 16:49', '2019-10-22 14:34', '2020-04-06 20:40', '2019-09-26 9:50', '2019-12-16 22:25', '2020-04-18 23:17', '2020-04-18 23:00', '2020-04-03 21:06', '2020-04-14 19:30', '2020-04-17 1:49', '2020-04-17 22:53', '2020-03-24 9:50', '2020-04-15 16:36', '2020-04-17 11:16', '2020-04-12 21:34', '2020-04-14 23:27', '2020-04-15 23:57', '2020-04-15 17:47']\n"
     ]
    }
   ],
   "source": [
    "# 發佈時間\n",
    "a_tag =soup.select(\"div.l-listTable__td:nth-of-type(2) div.o-fNotes\")\n",
    "potime_text = []\n",
    "for i in a_tag:\n",
    "    potime_text.append(i.text)\n",
    "print(potime_text)"
   ]
  },
  {
   "cell_type": "code",
   "execution_count": 45,
   "metadata": {},
   "outputs": [
    {
     "name": "stdout",
     "output_type": "stream",
     "text": [
      "['2020-04-21 10:45', '2020-04-21 9:48', '2020-04-21 8:46', '2020-04-21 6:19', '2020-04-21 1:51', '2020-04-21 1:04', '2020-04-21 0:23', '2020-04-20 17:36', '2020-04-20 17:18', '2020-04-20 15:08', '2020-04-20 0:34', '2020-04-19 19:52', '2020-04-19 15:33', '2020-04-19 11:55', '2020-04-19 11:41', '2020-04-19 11:31', '2020-04-19 7:24', '2020-04-18 23:42', '2020-04-18 23:00', '2020-04-18 17:49', '2020-04-18 17:35', '2020-04-18 17:23', '2020-04-18 11:55', '2020-04-17 21:03', '2020-04-17 20:57', '2020-04-17 11:16', '2020-04-17 8:47', '2020-04-16 6:49', '2020-04-15 23:57', '2020-04-15 20:46']\n"
     ]
    }
   ],
   "source": [
    "# 最後回覆時間\n",
    "lasttime_text = []\n",
    "a_tag = soup.select(\"div.l-listTable__td:nth-of-type(3) div.o-fNotes\")\n",
    "for i in a_tag:\n",
    "    lasttime_text.append(i.text)\n",
    "print(lasttime_text)"
   ]
  },
  {
   "cell_type": "code",
   "execution_count": 46,
   "metadata": {},
   "outputs": [
    {
     "name": "stdout",
     "output_type": "stream",
     "text": [
      "['3', '22', '2', '7', '15', '4', '11', '3', '65', '16', '2', '14', '115', '44', '2', '47', '136', '2', '0', '17', '8', '2', '4', '130', '12', '0', '4', '3', '0', '1']\n"
     ]
    }
   ],
   "source": [
    "\n",
    "# 回應人數\n",
    "a_tag = soup.select(\"div.o-fMini\")\n",
    "peo_text = []\n",
    "for i in a_tag:\n",
    "    peo_text.append(i.string)\n",
    "print(peo_text)"
   ]
  },
  {
   "cell_type": "code",
   "execution_count": 69,
   "metadata": {},
   "outputs": [],
   "source": [
    "import csv\n",
    "\n",
    "# 開啟輸出的 CSV 檔案\n",
    "with open('output.csv', 'w', newline='') as csvfile:\n",
    "    writer = csv.writer(csvfile)\n",
    "    writer.writerow([\"主題\",\"發布時間\",\"最後回覆時間\",\"回應\"])\n",
    "    for w,x,y,z in zip(title_text,potime_text,lasttime_text,peo_text):\n",
    "        writer.writerow([w,x,y,z])"
   ]
  },
  {
   "cell_type": "code",
   "execution_count": null,
   "metadata": {},
   "outputs": [],
   "source": []
  }
 ],
 "metadata": {
  "kernelspec": {
   "display_name": "Python 3",
   "language": "python",
   "name": "python3"
  },
  "language_info": {
   "codemirror_mode": {
    "name": "ipython",
    "version": 3
   },
   "file_extension": ".py",
   "mimetype": "text/x-python",
   "name": "python",
   "nbconvert_exporter": "python",
   "pygments_lexer": "ipython3",
   "version": "3.7.4"
  }
 },
 "nbformat": 4,
 "nbformat_minor": 2
}
