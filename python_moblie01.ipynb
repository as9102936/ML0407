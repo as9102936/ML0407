{
 "cells": [
  {
   "cell_type": "code",
   "execution_count": 1,
   "metadata": {
    "scrolled": true
   },
   "outputs": [
    {
     "ename": "KeyboardInterrupt",
     "evalue": "",
     "output_type": "error",
     "traceback": [
      "\u001b[1;31m---------------------------------------------------------------------------\u001b[0m",
      "\u001b[1;31mKeyboardInterrupt\u001b[0m                         Traceback (most recent call last)",
      "\u001b[1;32m<ipython-input-1-24124b628486>\u001b[0m in \u001b[0;36m<module>\u001b[1;34m\u001b[0m\n\u001b[0;32m     11\u001b[0m \u001b[1;31m#     print(pag)\u001b[0m\u001b[1;33m\u001b[0m\u001b[1;33m\u001b[0m\u001b[1;33m\u001b[0m\u001b[0m\n\u001b[0;32m     12\u001b[0m     page = requests.get(url,\n\u001b[1;32m---> 13\u001b[1;33m                         headers = {\"user-agent\":\"Mozilla/5.0 (Windows NT 10.0; Win64; x64) AppleWebKit/537.36 (KHTML, like Gecko) Chrome/80.0.3987.163 Safari/537.36\"})\n\u001b[0m\u001b[0;32m     14\u001b[0m     \u001b[0msoup\u001b[0m \u001b[1;33m=\u001b[0m \u001b[0mBeautifulSoup\u001b[0m\u001b[1;33m(\u001b[0m\u001b[0mpage\u001b[0m\u001b[1;33m.\u001b[0m\u001b[0mtext\u001b[0m\u001b[1;33m,\u001b[0m \u001b[1;34m'html.parser'\u001b[0m\u001b[1;33m)\u001b[0m\u001b[1;33m\u001b[0m\u001b[1;33m\u001b[0m\u001b[0m\n\u001b[0;32m     15\u001b[0m     \u001b[0ma_tag\u001b[0m \u001b[1;33m=\u001b[0m \u001b[0msoup\u001b[0m\u001b[1;33m.\u001b[0m\u001b[0mselect\u001b[0m\u001b[1;33m(\u001b[0m\u001b[1;34m\".c-listTableTd__title a.c-link\"\u001b[0m\u001b[1;33m)\u001b[0m\u001b[1;33m\u001b[0m\u001b[1;33m\u001b[0m\u001b[0m\n",
      "\u001b[1;32m~\\PycharmProjects\\cc\\venv\\lib\\site-packages\\requests\\api.py\u001b[0m in \u001b[0;36mget\u001b[1;34m(url, params, **kwargs)\u001b[0m\n\u001b[0;32m     74\u001b[0m \u001b[1;33m\u001b[0m\u001b[0m\n\u001b[0;32m     75\u001b[0m     \u001b[0mkwargs\u001b[0m\u001b[1;33m.\u001b[0m\u001b[0msetdefault\u001b[0m\u001b[1;33m(\u001b[0m\u001b[1;34m'allow_redirects'\u001b[0m\u001b[1;33m,\u001b[0m \u001b[1;32mTrue\u001b[0m\u001b[1;33m)\u001b[0m\u001b[1;33m\u001b[0m\u001b[1;33m\u001b[0m\u001b[0m\n\u001b[1;32m---> 76\u001b[1;33m     \u001b[1;32mreturn\u001b[0m \u001b[0mrequest\u001b[0m\u001b[1;33m(\u001b[0m\u001b[1;34m'get'\u001b[0m\u001b[1;33m,\u001b[0m \u001b[0murl\u001b[0m\u001b[1;33m,\u001b[0m \u001b[0mparams\u001b[0m\u001b[1;33m=\u001b[0m\u001b[0mparams\u001b[0m\u001b[1;33m,\u001b[0m \u001b[1;33m**\u001b[0m\u001b[0mkwargs\u001b[0m\u001b[1;33m)\u001b[0m\u001b[1;33m\u001b[0m\u001b[1;33m\u001b[0m\u001b[0m\n\u001b[0m\u001b[0;32m     77\u001b[0m \u001b[1;33m\u001b[0m\u001b[0m\n\u001b[0;32m     78\u001b[0m \u001b[1;33m\u001b[0m\u001b[0m\n",
      "\u001b[1;32m~\\PycharmProjects\\cc\\venv\\lib\\site-packages\\requests\\api.py\u001b[0m in \u001b[0;36mrequest\u001b[1;34m(method, url, **kwargs)\u001b[0m\n\u001b[0;32m     59\u001b[0m     \u001b[1;31m# cases, and look like a memory leak in others.\u001b[0m\u001b[1;33m\u001b[0m\u001b[1;33m\u001b[0m\u001b[1;33m\u001b[0m\u001b[0m\n\u001b[0;32m     60\u001b[0m     \u001b[1;32mwith\u001b[0m \u001b[0msessions\u001b[0m\u001b[1;33m.\u001b[0m\u001b[0mSession\u001b[0m\u001b[1;33m(\u001b[0m\u001b[1;33m)\u001b[0m \u001b[1;32mas\u001b[0m \u001b[0msession\u001b[0m\u001b[1;33m:\u001b[0m\u001b[1;33m\u001b[0m\u001b[1;33m\u001b[0m\u001b[0m\n\u001b[1;32m---> 61\u001b[1;33m         \u001b[1;32mreturn\u001b[0m \u001b[0msession\u001b[0m\u001b[1;33m.\u001b[0m\u001b[0mrequest\u001b[0m\u001b[1;33m(\u001b[0m\u001b[0mmethod\u001b[0m\u001b[1;33m=\u001b[0m\u001b[0mmethod\u001b[0m\u001b[1;33m,\u001b[0m \u001b[0murl\u001b[0m\u001b[1;33m=\u001b[0m\u001b[0murl\u001b[0m\u001b[1;33m,\u001b[0m \u001b[1;33m**\u001b[0m\u001b[0mkwargs\u001b[0m\u001b[1;33m)\u001b[0m\u001b[1;33m\u001b[0m\u001b[1;33m\u001b[0m\u001b[0m\n\u001b[0m\u001b[0;32m     62\u001b[0m \u001b[1;33m\u001b[0m\u001b[0m\n\u001b[0;32m     63\u001b[0m \u001b[1;33m\u001b[0m\u001b[0m\n",
      "\u001b[1;32m~\\PycharmProjects\\cc\\venv\\lib\\site-packages\\requests\\sessions.py\u001b[0m in \u001b[0;36mrequest\u001b[1;34m(self, method, url, params, data, headers, cookies, files, auth, timeout, allow_redirects, proxies, hooks, stream, verify, cert, json)\u001b[0m\n\u001b[0;32m    528\u001b[0m         }\n\u001b[0;32m    529\u001b[0m         \u001b[0msend_kwargs\u001b[0m\u001b[1;33m.\u001b[0m\u001b[0mupdate\u001b[0m\u001b[1;33m(\u001b[0m\u001b[0msettings\u001b[0m\u001b[1;33m)\u001b[0m\u001b[1;33m\u001b[0m\u001b[1;33m\u001b[0m\u001b[0m\n\u001b[1;32m--> 530\u001b[1;33m         \u001b[0mresp\u001b[0m \u001b[1;33m=\u001b[0m \u001b[0mself\u001b[0m\u001b[1;33m.\u001b[0m\u001b[0msend\u001b[0m\u001b[1;33m(\u001b[0m\u001b[0mprep\u001b[0m\u001b[1;33m,\u001b[0m \u001b[1;33m**\u001b[0m\u001b[0msend_kwargs\u001b[0m\u001b[1;33m)\u001b[0m\u001b[1;33m\u001b[0m\u001b[1;33m\u001b[0m\u001b[0m\n\u001b[0m\u001b[0;32m    531\u001b[0m \u001b[1;33m\u001b[0m\u001b[0m\n\u001b[0;32m    532\u001b[0m         \u001b[1;32mreturn\u001b[0m \u001b[0mresp\u001b[0m\u001b[1;33m\u001b[0m\u001b[1;33m\u001b[0m\u001b[0m\n",
      "\u001b[1;32m~\\PycharmProjects\\cc\\venv\\lib\\site-packages\\requests\\sessions.py\u001b[0m in \u001b[0;36msend\u001b[1;34m(self, request, **kwargs)\u001b[0m\n\u001b[0;32m    641\u001b[0m \u001b[1;33m\u001b[0m\u001b[0m\n\u001b[0;32m    642\u001b[0m         \u001b[1;31m# Send the request\u001b[0m\u001b[1;33m\u001b[0m\u001b[1;33m\u001b[0m\u001b[1;33m\u001b[0m\u001b[0m\n\u001b[1;32m--> 643\u001b[1;33m         \u001b[0mr\u001b[0m \u001b[1;33m=\u001b[0m \u001b[0madapter\u001b[0m\u001b[1;33m.\u001b[0m\u001b[0msend\u001b[0m\u001b[1;33m(\u001b[0m\u001b[0mrequest\u001b[0m\u001b[1;33m,\u001b[0m \u001b[1;33m**\u001b[0m\u001b[0mkwargs\u001b[0m\u001b[1;33m)\u001b[0m\u001b[1;33m\u001b[0m\u001b[1;33m\u001b[0m\u001b[0m\n\u001b[0m\u001b[0;32m    644\u001b[0m \u001b[1;33m\u001b[0m\u001b[0m\n\u001b[0;32m    645\u001b[0m         \u001b[1;31m# Total elapsed time of the request (approximately)\u001b[0m\u001b[1;33m\u001b[0m\u001b[1;33m\u001b[0m\u001b[1;33m\u001b[0m\u001b[0m\n",
      "\u001b[1;32m~\\PycharmProjects\\cc\\venv\\lib\\site-packages\\requests\\adapters.py\u001b[0m in \u001b[0;36msend\u001b[1;34m(self, request, stream, timeout, verify, cert, proxies)\u001b[0m\n\u001b[0;32m    447\u001b[0m                     \u001b[0mdecode_content\u001b[0m\u001b[1;33m=\u001b[0m\u001b[1;32mFalse\u001b[0m\u001b[1;33m,\u001b[0m\u001b[1;33m\u001b[0m\u001b[1;33m\u001b[0m\u001b[0m\n\u001b[0;32m    448\u001b[0m                     \u001b[0mretries\u001b[0m\u001b[1;33m=\u001b[0m\u001b[0mself\u001b[0m\u001b[1;33m.\u001b[0m\u001b[0mmax_retries\u001b[0m\u001b[1;33m,\u001b[0m\u001b[1;33m\u001b[0m\u001b[1;33m\u001b[0m\u001b[0m\n\u001b[1;32m--> 449\u001b[1;33m                     \u001b[0mtimeout\u001b[0m\u001b[1;33m=\u001b[0m\u001b[0mtimeout\u001b[0m\u001b[1;33m\u001b[0m\u001b[1;33m\u001b[0m\u001b[0m\n\u001b[0m\u001b[0;32m    450\u001b[0m                 )\n\u001b[0;32m    451\u001b[0m \u001b[1;33m\u001b[0m\u001b[0m\n",
      "\u001b[1;32m~\\PycharmProjects\\cc\\venv\\lib\\site-packages\\urllib3\\connectionpool.py\u001b[0m in \u001b[0;36murlopen\u001b[1;34m(self, method, url, body, headers, retries, redirect, assert_same_host, timeout, pool_timeout, release_conn, chunked, body_pos, **response_kw)\u001b[0m\n\u001b[0;32m    675\u001b[0m                 \u001b[0mbody\u001b[0m\u001b[1;33m=\u001b[0m\u001b[0mbody\u001b[0m\u001b[1;33m,\u001b[0m\u001b[1;33m\u001b[0m\u001b[1;33m\u001b[0m\u001b[0m\n\u001b[0;32m    676\u001b[0m                 \u001b[0mheaders\u001b[0m\u001b[1;33m=\u001b[0m\u001b[0mheaders\u001b[0m\u001b[1;33m,\u001b[0m\u001b[1;33m\u001b[0m\u001b[1;33m\u001b[0m\u001b[0m\n\u001b[1;32m--> 677\u001b[1;33m                 \u001b[0mchunked\u001b[0m\u001b[1;33m=\u001b[0m\u001b[0mchunked\u001b[0m\u001b[1;33m,\u001b[0m\u001b[1;33m\u001b[0m\u001b[1;33m\u001b[0m\u001b[0m\n\u001b[0m\u001b[0;32m    678\u001b[0m             )\n\u001b[0;32m    679\u001b[0m \u001b[1;33m\u001b[0m\u001b[0m\n",
      "\u001b[1;32m~\\PycharmProjects\\cc\\venv\\lib\\site-packages\\urllib3\\connectionpool.py\u001b[0m in \u001b[0;36m_make_request\u001b[1;34m(self, conn, method, url, timeout, chunked, **httplib_request_kw)\u001b[0m\n\u001b[0;32m    424\u001b[0m                     \u001b[1;31m# Python 3 (including for exceptions like SystemExit).\u001b[0m\u001b[1;33m\u001b[0m\u001b[1;33m\u001b[0m\u001b[1;33m\u001b[0m\u001b[0m\n\u001b[0;32m    425\u001b[0m                     \u001b[1;31m# Otherwise it looks like a bug in the code.\u001b[0m\u001b[1;33m\u001b[0m\u001b[1;33m\u001b[0m\u001b[1;33m\u001b[0m\u001b[0m\n\u001b[1;32m--> 426\u001b[1;33m                     \u001b[0msix\u001b[0m\u001b[1;33m.\u001b[0m\u001b[0mraise_from\u001b[0m\u001b[1;33m(\u001b[0m\u001b[0me\u001b[0m\u001b[1;33m,\u001b[0m \u001b[1;32mNone\u001b[0m\u001b[1;33m)\u001b[0m\u001b[1;33m\u001b[0m\u001b[1;33m\u001b[0m\u001b[0m\n\u001b[0m\u001b[0;32m    427\u001b[0m         \u001b[1;32mexcept\u001b[0m \u001b[1;33m(\u001b[0m\u001b[0mSocketTimeout\u001b[0m\u001b[1;33m,\u001b[0m \u001b[0mBaseSSLError\u001b[0m\u001b[1;33m,\u001b[0m \u001b[0mSocketError\u001b[0m\u001b[1;33m)\u001b[0m \u001b[1;32mas\u001b[0m \u001b[0me\u001b[0m\u001b[1;33m:\u001b[0m\u001b[1;33m\u001b[0m\u001b[1;33m\u001b[0m\u001b[0m\n\u001b[0;32m    428\u001b[0m             \u001b[0mself\u001b[0m\u001b[1;33m.\u001b[0m\u001b[0m_raise_timeout\u001b[0m\u001b[1;33m(\u001b[0m\u001b[0merr\u001b[0m\u001b[1;33m=\u001b[0m\u001b[0me\u001b[0m\u001b[1;33m,\u001b[0m \u001b[0murl\u001b[0m\u001b[1;33m=\u001b[0m\u001b[0murl\u001b[0m\u001b[1;33m,\u001b[0m \u001b[0mtimeout_value\u001b[0m\u001b[1;33m=\u001b[0m\u001b[0mread_timeout\u001b[0m\u001b[1;33m)\u001b[0m\u001b[1;33m\u001b[0m\u001b[1;33m\u001b[0m\u001b[0m\n",
      "\u001b[1;32m~\\PycharmProjects\\cc\\venv\\lib\\site-packages\\urllib3\\packages\\six.py\u001b[0m in \u001b[0;36mraise_from\u001b[1;34m(value, from_value)\u001b[0m\n",
      "\u001b[1;32m~\\PycharmProjects\\cc\\venv\\lib\\site-packages\\urllib3\\connectionpool.py\u001b[0m in \u001b[0;36m_make_request\u001b[1;34m(self, conn, method, url, timeout, chunked, **httplib_request_kw)\u001b[0m\n\u001b[0;32m    419\u001b[0m                 \u001b[1;31m# Python 3\u001b[0m\u001b[1;33m\u001b[0m\u001b[1;33m\u001b[0m\u001b[1;33m\u001b[0m\u001b[0m\n\u001b[0;32m    420\u001b[0m                 \u001b[1;32mtry\u001b[0m\u001b[1;33m:\u001b[0m\u001b[1;33m\u001b[0m\u001b[1;33m\u001b[0m\u001b[0m\n\u001b[1;32m--> 421\u001b[1;33m                     \u001b[0mhttplib_response\u001b[0m \u001b[1;33m=\u001b[0m \u001b[0mconn\u001b[0m\u001b[1;33m.\u001b[0m\u001b[0mgetresponse\u001b[0m\u001b[1;33m(\u001b[0m\u001b[1;33m)\u001b[0m\u001b[1;33m\u001b[0m\u001b[1;33m\u001b[0m\u001b[0m\n\u001b[0m\u001b[0;32m    422\u001b[0m                 \u001b[1;32mexcept\u001b[0m \u001b[0mBaseException\u001b[0m \u001b[1;32mas\u001b[0m \u001b[0me\u001b[0m\u001b[1;33m:\u001b[0m\u001b[1;33m\u001b[0m\u001b[1;33m\u001b[0m\u001b[0m\n\u001b[0;32m    423\u001b[0m                     \u001b[1;31m# Remove the TypeError from the exception chain in\u001b[0m\u001b[1;33m\u001b[0m\u001b[1;33m\u001b[0m\u001b[1;33m\u001b[0m\u001b[0m\n",
      "\u001b[1;32m~\\AppData\\Local\\Programs\\Python\\Python37\\lib\\http\\client.py\u001b[0m in \u001b[0;36mgetresponse\u001b[1;34m(self)\u001b[0m\n\u001b[0;32m   1342\u001b[0m         \u001b[1;32mtry\u001b[0m\u001b[1;33m:\u001b[0m\u001b[1;33m\u001b[0m\u001b[1;33m\u001b[0m\u001b[0m\n\u001b[0;32m   1343\u001b[0m             \u001b[1;32mtry\u001b[0m\u001b[1;33m:\u001b[0m\u001b[1;33m\u001b[0m\u001b[1;33m\u001b[0m\u001b[0m\n\u001b[1;32m-> 1344\u001b[1;33m                 \u001b[0mresponse\u001b[0m\u001b[1;33m.\u001b[0m\u001b[0mbegin\u001b[0m\u001b[1;33m(\u001b[0m\u001b[1;33m)\u001b[0m\u001b[1;33m\u001b[0m\u001b[1;33m\u001b[0m\u001b[0m\n\u001b[0m\u001b[0;32m   1345\u001b[0m             \u001b[1;32mexcept\u001b[0m \u001b[0mConnectionError\u001b[0m\u001b[1;33m:\u001b[0m\u001b[1;33m\u001b[0m\u001b[1;33m\u001b[0m\u001b[0m\n\u001b[0;32m   1346\u001b[0m                 \u001b[0mself\u001b[0m\u001b[1;33m.\u001b[0m\u001b[0mclose\u001b[0m\u001b[1;33m(\u001b[0m\u001b[1;33m)\u001b[0m\u001b[1;33m\u001b[0m\u001b[1;33m\u001b[0m\u001b[0m\n",
      "\u001b[1;32m~\\AppData\\Local\\Programs\\Python\\Python37\\lib\\http\\client.py\u001b[0m in \u001b[0;36mbegin\u001b[1;34m(self)\u001b[0m\n\u001b[0;32m    304\u001b[0m         \u001b[1;31m# read until we get a non-100 response\u001b[0m\u001b[1;33m\u001b[0m\u001b[1;33m\u001b[0m\u001b[1;33m\u001b[0m\u001b[0m\n\u001b[0;32m    305\u001b[0m         \u001b[1;32mwhile\u001b[0m \u001b[1;32mTrue\u001b[0m\u001b[1;33m:\u001b[0m\u001b[1;33m\u001b[0m\u001b[1;33m\u001b[0m\u001b[0m\n\u001b[1;32m--> 306\u001b[1;33m             \u001b[0mversion\u001b[0m\u001b[1;33m,\u001b[0m \u001b[0mstatus\u001b[0m\u001b[1;33m,\u001b[0m \u001b[0mreason\u001b[0m \u001b[1;33m=\u001b[0m \u001b[0mself\u001b[0m\u001b[1;33m.\u001b[0m\u001b[0m_read_status\u001b[0m\u001b[1;33m(\u001b[0m\u001b[1;33m)\u001b[0m\u001b[1;33m\u001b[0m\u001b[1;33m\u001b[0m\u001b[0m\n\u001b[0m\u001b[0;32m    307\u001b[0m             \u001b[1;32mif\u001b[0m \u001b[0mstatus\u001b[0m \u001b[1;33m!=\u001b[0m \u001b[0mCONTINUE\u001b[0m\u001b[1;33m:\u001b[0m\u001b[1;33m\u001b[0m\u001b[1;33m\u001b[0m\u001b[0m\n\u001b[0;32m    308\u001b[0m                 \u001b[1;32mbreak\u001b[0m\u001b[1;33m\u001b[0m\u001b[1;33m\u001b[0m\u001b[0m\n",
      "\u001b[1;32m~\\AppData\\Local\\Programs\\Python\\Python37\\lib\\http\\client.py\u001b[0m in \u001b[0;36m_read_status\u001b[1;34m(self)\u001b[0m\n\u001b[0;32m    265\u001b[0m \u001b[1;33m\u001b[0m\u001b[0m\n\u001b[0;32m    266\u001b[0m     \u001b[1;32mdef\u001b[0m \u001b[0m_read_status\u001b[0m\u001b[1;33m(\u001b[0m\u001b[0mself\u001b[0m\u001b[1;33m)\u001b[0m\u001b[1;33m:\u001b[0m\u001b[1;33m\u001b[0m\u001b[1;33m\u001b[0m\u001b[0m\n\u001b[1;32m--> 267\u001b[1;33m         \u001b[0mline\u001b[0m \u001b[1;33m=\u001b[0m \u001b[0mstr\u001b[0m\u001b[1;33m(\u001b[0m\u001b[0mself\u001b[0m\u001b[1;33m.\u001b[0m\u001b[0mfp\u001b[0m\u001b[1;33m.\u001b[0m\u001b[0mreadline\u001b[0m\u001b[1;33m(\u001b[0m\u001b[0m_MAXLINE\u001b[0m \u001b[1;33m+\u001b[0m \u001b[1;36m1\u001b[0m\u001b[1;33m)\u001b[0m\u001b[1;33m,\u001b[0m \u001b[1;34m\"iso-8859-1\"\u001b[0m\u001b[1;33m)\u001b[0m\u001b[1;33m\u001b[0m\u001b[1;33m\u001b[0m\u001b[0m\n\u001b[0m\u001b[0;32m    268\u001b[0m         \u001b[1;32mif\u001b[0m \u001b[0mlen\u001b[0m\u001b[1;33m(\u001b[0m\u001b[0mline\u001b[0m\u001b[1;33m)\u001b[0m \u001b[1;33m>\u001b[0m \u001b[0m_MAXLINE\u001b[0m\u001b[1;33m:\u001b[0m\u001b[1;33m\u001b[0m\u001b[1;33m\u001b[0m\u001b[0m\n\u001b[0;32m    269\u001b[0m             \u001b[1;32mraise\u001b[0m \u001b[0mLineTooLong\u001b[0m\u001b[1;33m(\u001b[0m\u001b[1;34m\"status line\"\u001b[0m\u001b[1;33m)\u001b[0m\u001b[1;33m\u001b[0m\u001b[1;33m\u001b[0m\u001b[0m\n",
      "\u001b[1;32m~\\AppData\\Local\\Programs\\Python\\Python37\\lib\\socket.py\u001b[0m in \u001b[0;36mreadinto\u001b[1;34m(self, b)\u001b[0m\n\u001b[0;32m    587\u001b[0m         \u001b[1;32mwhile\u001b[0m \u001b[1;32mTrue\u001b[0m\u001b[1;33m:\u001b[0m\u001b[1;33m\u001b[0m\u001b[1;33m\u001b[0m\u001b[0m\n\u001b[0;32m    588\u001b[0m             \u001b[1;32mtry\u001b[0m\u001b[1;33m:\u001b[0m\u001b[1;33m\u001b[0m\u001b[1;33m\u001b[0m\u001b[0m\n\u001b[1;32m--> 589\u001b[1;33m                 \u001b[1;32mreturn\u001b[0m \u001b[0mself\u001b[0m\u001b[1;33m.\u001b[0m\u001b[0m_sock\u001b[0m\u001b[1;33m.\u001b[0m\u001b[0mrecv_into\u001b[0m\u001b[1;33m(\u001b[0m\u001b[0mb\u001b[0m\u001b[1;33m)\u001b[0m\u001b[1;33m\u001b[0m\u001b[1;33m\u001b[0m\u001b[0m\n\u001b[0m\u001b[0;32m    590\u001b[0m             \u001b[1;32mexcept\u001b[0m \u001b[0mtimeout\u001b[0m\u001b[1;33m:\u001b[0m\u001b[1;33m\u001b[0m\u001b[1;33m\u001b[0m\u001b[0m\n\u001b[0;32m    591\u001b[0m                 \u001b[0mself\u001b[0m\u001b[1;33m.\u001b[0m\u001b[0m_timeout_occurred\u001b[0m \u001b[1;33m=\u001b[0m \u001b[1;32mTrue\u001b[0m\u001b[1;33m\u001b[0m\u001b[1;33m\u001b[0m\u001b[0m\n",
      "\u001b[1;32m~\\AppData\\Local\\Programs\\Python\\Python37\\lib\\ssl.py\u001b[0m in \u001b[0;36mrecv_into\u001b[1;34m(self, buffer, nbytes, flags)\u001b[0m\n\u001b[0;32m   1069\u001b[0m                   \u001b[1;34m\"non-zero flags not allowed in calls to recv_into() on %s\"\u001b[0m \u001b[1;33m%\u001b[0m\u001b[1;33m\u001b[0m\u001b[1;33m\u001b[0m\u001b[0m\n\u001b[0;32m   1070\u001b[0m                   self.__class__)\n\u001b[1;32m-> 1071\u001b[1;33m             \u001b[1;32mreturn\u001b[0m \u001b[0mself\u001b[0m\u001b[1;33m.\u001b[0m\u001b[0mread\u001b[0m\u001b[1;33m(\u001b[0m\u001b[0mnbytes\u001b[0m\u001b[1;33m,\u001b[0m \u001b[0mbuffer\u001b[0m\u001b[1;33m)\u001b[0m\u001b[1;33m\u001b[0m\u001b[1;33m\u001b[0m\u001b[0m\n\u001b[0m\u001b[0;32m   1072\u001b[0m         \u001b[1;32melse\u001b[0m\u001b[1;33m:\u001b[0m\u001b[1;33m\u001b[0m\u001b[1;33m\u001b[0m\u001b[0m\n\u001b[0;32m   1073\u001b[0m             \u001b[1;32mreturn\u001b[0m \u001b[0msuper\u001b[0m\u001b[1;33m(\u001b[0m\u001b[1;33m)\u001b[0m\u001b[1;33m.\u001b[0m\u001b[0mrecv_into\u001b[0m\u001b[1;33m(\u001b[0m\u001b[0mbuffer\u001b[0m\u001b[1;33m,\u001b[0m \u001b[0mnbytes\u001b[0m\u001b[1;33m,\u001b[0m \u001b[0mflags\u001b[0m\u001b[1;33m)\u001b[0m\u001b[1;33m\u001b[0m\u001b[1;33m\u001b[0m\u001b[0m\n",
      "\u001b[1;32m~\\AppData\\Local\\Programs\\Python\\Python37\\lib\\ssl.py\u001b[0m in \u001b[0;36mread\u001b[1;34m(self, len, buffer)\u001b[0m\n\u001b[0;32m    927\u001b[0m         \u001b[1;32mtry\u001b[0m\u001b[1;33m:\u001b[0m\u001b[1;33m\u001b[0m\u001b[1;33m\u001b[0m\u001b[0m\n\u001b[0;32m    928\u001b[0m             \u001b[1;32mif\u001b[0m \u001b[0mbuffer\u001b[0m \u001b[1;32mis\u001b[0m \u001b[1;32mnot\u001b[0m \u001b[1;32mNone\u001b[0m\u001b[1;33m:\u001b[0m\u001b[1;33m\u001b[0m\u001b[1;33m\u001b[0m\u001b[0m\n\u001b[1;32m--> 929\u001b[1;33m                 \u001b[1;32mreturn\u001b[0m \u001b[0mself\u001b[0m\u001b[1;33m.\u001b[0m\u001b[0m_sslobj\u001b[0m\u001b[1;33m.\u001b[0m\u001b[0mread\u001b[0m\u001b[1;33m(\u001b[0m\u001b[0mlen\u001b[0m\u001b[1;33m,\u001b[0m \u001b[0mbuffer\u001b[0m\u001b[1;33m)\u001b[0m\u001b[1;33m\u001b[0m\u001b[1;33m\u001b[0m\u001b[0m\n\u001b[0m\u001b[0;32m    930\u001b[0m             \u001b[1;32melse\u001b[0m\u001b[1;33m:\u001b[0m\u001b[1;33m\u001b[0m\u001b[1;33m\u001b[0m\u001b[0m\n\u001b[0;32m    931\u001b[0m                 \u001b[1;32mreturn\u001b[0m \u001b[0mself\u001b[0m\u001b[1;33m.\u001b[0m\u001b[0m_sslobj\u001b[0m\u001b[1;33m.\u001b[0m\u001b[0mread\u001b[0m\u001b[1;33m(\u001b[0m\u001b[0mlen\u001b[0m\u001b[1;33m)\u001b[0m\u001b[1;33m\u001b[0m\u001b[1;33m\u001b[0m\u001b[0m\n",
      "\u001b[1;31mKeyboardInterrupt\u001b[0m: "
     ]
    }
   ],
   "source": [
    "import requests\n",
    "from bs4 import BeautifulSoup\n",
    "import pandas as pd\n",
    "from urllib.parse import urlparse, parse_qs, urlunparse\n",
    "\n",
    "pag = 1\n",
    "title_text = []\n",
    "while pag < 50:\n",
    "    url = \"https://www.mobile01.com/topiclist.php?f=689&p=\"+str(pag)\n",
    "#     print(url)\n",
    "#     print(pag)\n",
    "    page = requests.get(url,\n",
    "                        headers = {\"user-agent\":\"Mozilla/5.0 (Windows NT 10.0; Win64; x64) AppleWebKit/537.36 (KHTML, like Gecko) Chrome/80.0.3987.163 Safari/537.36\"})\n",
    "    soup = BeautifulSoup(page.text, 'html.parser')\n",
    "    a_tag = soup.select(\".c-listTableTd__title a.c-link\")\n",
    "    #a_tag = soup.find_all(\"a\",class_=\"c-link u-ellipsis\")\n",
    "    #print(a_tag)\n",
    "    title_text = []\n",
    "\n",
    "    for i in a_tag:\n",
    "        if \"Reno 10x\" or \"reno 10x\" in i:\n",
    "            title_text.append(i.text)\n",
    "\n",
    "    pag = pag+1\n",
    "print(title_text)\n"
   ]
  },
  {
   "cell_type": "code",
   "execution_count": null,
   "metadata": {},
   "outputs": [],
   "source": []
  },
  {
   "cell_type": "code",
   "execution_count": null,
   "metadata": {},
   "outputs": [],
   "source": []
  },
  {
   "cell_type": "code",
   "execution_count": 26,
   "metadata": {},
   "outputs": [],
   "source": [
    "import requests\n",
    "from bs4 import BeautifulSoup\n",
    "import pandas as pd\n",
    "from urllib.parse import urlparse, parse_qs, urlunparse"
   ]
  },
  {
   "cell_type": "code",
   "execution_count": 27,
   "metadata": {},
   "outputs": [],
   "source": [
    "page = requests.get(url,\n",
    "                    headers = {\"user-agent\":\"Mozilla/5.0 (Windows NT 10.0; Win64; x64) AppleWebKit/537.36 (KHTML, like Gecko) Chrome/80.0.3987.163 Safari/537.36\"})\n",
    "soup = BeautifulSoup(page.text, 'html.parser')"
   ]
  },
  {
   "cell_type": "code",
   "execution_count": 28,
   "metadata": {},
   "outputs": [
    {
     "name": "stdout",
     "output_type": "stream",
     "text": [
      "['https://www.mobile01.com/topicdetail.php?f=689&t=6077192', 'https://www.mobile01.com/topicdetail.php?f=689&t=6076380', 'https://www.mobile01.com/topicdetail.php?f=689&t=6076751', 'https://www.mobile01.com/topicdetail.php?f=689&t=6076651', 'https://www.mobile01.com/topicdetail.php?f=689&t=6065815', 'https://www.mobile01.com/topicdetail.php?f=689&t=6076807', 'https://www.mobile01.com/topicdetail.php?f=689&t=6067630', 'https://www.mobile01.com/topicdetail.php?f=689&t=5934118', 'https://www.mobile01.com/topicdetail.php?f=689&t=6075118', 'https://www.mobile01.com/topicdetail.php?f=689&t=5987134', 'https://www.mobile01.com/topicdetail.php?f=689&t=6076761', 'https://www.mobile01.com/topicdetail.php?f=689&t=6076648', 'https://www.mobile01.com/topicdetail.php?f=689&t=6073936', 'https://www.mobile01.com/topicdetail.php?f=689&t=6071550', 'https://www.mobile01.com/topicdetail.php?f=689&t=6075330', 'https://www.mobile01.com/topicdetail.php?f=689&t=6074350', 'https://www.mobile01.com/topicdetail.php?f=689&t=6076164', 'https://www.mobile01.com/topicdetail.php?f=689&t=6071899', 'https://www.mobile01.com/topicdetail.php?f=689&t=6057628', 'https://www.mobile01.com/topicdetail.php?f=689&t=6074012', 'https://www.mobile01.com/topicdetail.php?f=689&t=6074980', 'https://www.mobile01.com/topicdetail.php?f=689&t=6072440', 'https://www.mobile01.com/topicdetail.php?f=689&t=6068837', 'https://www.mobile01.com/topicdetail.php?f=689&t=6072429', 'https://www.mobile01.com/topicdetail.php?f=689&t=6062969', 'https://www.mobile01.com/topicdetail.php?f=689&t=6073753', 'https://www.mobile01.com/topicdetail.php?f=689&t=6061620', 'https://www.mobile01.com/topicdetail.php?f=689&t=6060231', 'https://www.mobile01.com/topicdetail.php?f=689&t=6073597', 'https://www.mobile01.com/topicdetail.php?f=689&t=6068401']\n"
     ]
    }
   ],
   "source": [
    "soup = BeautifulSoup(page.text, 'html.parser')\n",
    "a_tag = soup.select(\".c-listTableTd__title a.c-link\")\n",
    "#文章網址\n",
    "URL_text = []\n",
    "for k in a_tag:\n",
    "    URL_text.append('https://www.mobile01.com/' + k[\"href\"])\n",
    "    # print(k[\"href\"])\n",
    "print(URL_text)"
   ]
  },
  {
   "cell_type": "code",
   "execution_count": 49,
   "metadata": {},
   "outputs": [
    {
     "ename": "TypeError",
     "evalue": "unsupported operand type(s) for +=: 'Tag' and 'int'",
     "output_type": "error",
     "traceback": [
      "\u001b[1;31m---------------------------------------------------------------------------\u001b[0m",
      "\u001b[1;31mTypeError\u001b[0m                                 Traceback (most recent call last)",
      "\u001b[1;32m<ipython-input-49-17cd755c9dda>\u001b[0m in \u001b[0;36m<module>\u001b[1;34m\u001b[0m\n\u001b[0;32m     13\u001b[0m         \u001b[1;32mif\u001b[0m \u001b[1;34m\"Reno 10x\"\u001b[0m \u001b[1;32min\u001b[0m \u001b[0mtitle_text\u001b[0m\u001b[1;33m:\u001b[0m\u001b[1;33m\u001b[0m\u001b[1;33m\u001b[0m\u001b[0m\n\u001b[0;32m     14\u001b[0m             \u001b[0mprint\u001b[0m\u001b[1;33m(\u001b[0m\u001b[0mtitle_text\u001b[0m\u001b[1;33m[\u001b[0m\u001b[1;34m\"href\"\u001b[0m\u001b[1;33m]\u001b[0m\u001b[1;33m)\u001b[0m\u001b[1;33m\u001b[0m\u001b[1;33m\u001b[0m\u001b[0m\n\u001b[1;32m---> 15\u001b[1;33m     \u001b[0mi\u001b[0m \u001b[1;33m+=\u001b[0m \u001b[1;36m1\u001b[0m\u001b[1;33m\u001b[0m\u001b[1;33m\u001b[0m\u001b[0m\n\u001b[0m\u001b[0;32m     16\u001b[0m     \u001b[0mprint\u001b[0m \u001b[1;33m(\u001b[0m\u001b[0mi\u001b[0m\u001b[1;33m)\u001b[0m\u001b[1;33m\u001b[0m\u001b[1;33m\u001b[0m\u001b[0m\n",
      "\u001b[1;31mTypeError\u001b[0m: unsupported operand type(s) for +=: 'Tag' and 'int'"
     ]
    }
   ],
   "source": [
    "# 標題\n",
    "\n",
    "#https://www.mobile01.com/topiclist.php?f=689&p=2\n",
    "i = 1\n",
    "while i < 33:\n",
    "\n",
    "#print(a_tag)\n",
    "    title_text = []\n",
    "    for i in a_tag:\n",
    "        title_text.append(i.text)\n",
    "        if \"Reno 10x\" in title_text:\n",
    "            print(title_text[\"href\"])\n",
    "    i += 1\n",
    "    print (i)"
   ]
  },
  {
   "cell_type": "code",
   "execution_count": 29,
   "metadata": {},
   "outputs": [
    {
     "name": "stdout",
     "output_type": "stream",
     "text": [
      "['2020-04-24 18:23', '2020-04-23 18:46', '2020-04-24 9:16', '2020-04-24 7:23', '2020-04-10 11:28', '2020-04-24 10:38', '2020-04-12 21:34', '2019-10-25 23:26', '2020-04-22 12:44', '2019-12-26 9:33', '2020-04-24 9:29', '2020-04-24 7:01', '2020-04-21 0:41', '2020-04-17 16:14', '2020-04-22 17:17', '2020-04-21 14:43', '2020-04-23 15:11', '2020-04-18 3:55', '2020-03-30 16:49', '2020-04-21 8:00', '2020-04-22 11:05', '2020-04-18 23:17', '2020-04-14 12:21', '2020-04-18 23:00', '2020-04-06 19:33', '2020-04-20 19:40', '2020-04-04 20:20', '2020-04-02 22:18', '2020-04-20 16:39', '2020-04-13 20:40']\n"
     ]
    }
   ],
   "source": [
    "# 發佈時間\n",
    "a_tag =soup.select(\"div.l-listTable__td:nth-of-type(2) div.o-fNotes\")\n",
    "potime_text = []\n",
    "for i in a_tag:\n",
    "    potime_text.append(i.text)\n",
    "print(potime_text)"
   ]
  },
  {
   "cell_type": "code",
   "execution_count": 30,
   "metadata": {},
   "outputs": [
    {
     "name": "stdout",
     "output_type": "stream",
     "text": [
      "['2020-04-25 16:27', '2020-04-25 12:45', '2020-04-25 12:16', '2020-04-25 8:08', '2020-04-25 7:30', '2020-04-25 2:22', '2020-04-25 0:03', '2020-04-24 23:15', '2020-04-24 20:14', '2020-04-24 20:06', '2020-04-24 14:59', '2020-04-24 12:59', '2020-04-24 11:23', '2020-04-24 11:01', '2020-04-24 10:04', '2020-04-24 9:44', '2020-04-23 15:11', '2020-04-23 13:27', '2020-04-23 8:53', '2020-04-23 0:43', '2020-04-22 22:08', '2020-04-22 21:33', '2020-04-22 20:44', '2020-04-22 20:16', '2020-04-22 15:41', '2020-04-22 12:29', '2020-04-21 15:50', '2020-04-21 13:22', '2020-04-21 12:30', '2020-04-21 6:19']\n"
     ]
    }
   ],
   "source": [
    "# 最後回覆時間\n",
    "lasttime_text = []\n",
    "a_tag = soup.select(\"div.l-listTable__td:nth-of-type(3) div.o-fNotes\")\n",
    "for i in a_tag:\n",
    "    lasttime_text.append(i.text)\n",
    "print(lasttime_text)"
   ]
  },
  {
   "cell_type": "code",
   "execution_count": 7,
   "metadata": {},
   "outputs": [
    {
     "name": "stdout",
     "output_type": "stream",
     "text": [
      "['0', '12', '4', '3', '17', '3', '4', '22', '7', '4', '65', '16', '2', '14', '115', '44', '2', '47', '136', '0', '17', '8', '2', '4', '130', '12', '0', '4', '3', '0']\n"
     ]
    }
   ],
   "source": [
    "\n",
    "# 回應人數\n",
    "a_tag = soup.select(\"div.o-fMini\")\n",
    "peo_text = []\n",
    "for i in a_tag:\n",
    "    peo_text.append(i.string)\n",
    "print(peo_text)"
   ]
  },
  {
   "cell_type": "code",
   "execution_count": 8,
   "metadata": {},
   "outputs": [],
   "source": [
    "import csv\n",
    "\n",
    "# 開啟輸出的 CSV 檔案\n",
    "with open('output.csv', 'w', newline='') as csvfile:\n",
    "    writer = csv.writer(csvfile)\n",
    "    writer.writerow([\"主題\",\"發布時間\",\"最後回覆時間\",\"回應\"])\n",
    "    for w,x,y,z in zip(title_text,potime_text,lasttime_text,peo_text):\n",
    "        writer.writerow([w,x,y,z])"
   ]
  },
  {
   "cell_type": "code",
   "execution_count": 35,
   "metadata": {},
   "outputs": [
    {
     "data": {
      "text/plain": [
       "[<article class=\"u-gapBottom--max c-articleLimit\" id=\"article_77078503\">\n",
       "                     如果用Type-C 給有雙Type-C的轉接設備<br/>\n",
       " 一個接Type-C充電線<br/>\n",
       " 另一個接Type-C轉3.5mm的線<br/>\n",
       " 不知這樣是否可行?\n",
       "                 </article>,\n",
       " <article class=\"u-gapBottom--max c-articleLimit\" id=\"article_77087247\">\n",
       " <blockquote>lengyan wrote:如果用Type-C (恕刪)<br/></blockquote>\n",
       "  <br/>\n",
       "  <br/>\n",
       " 請問類似哪種頭呢? 照片中我有試過 TYPE-C 一分二 跟 TYPE-C HUB (支援PD)<br/>\n",
       "  <br/>\n",
       " 目前都失敗 請問有推薦的型號嗎?<br/>\n",
       "  <br/>\n",
       " 感謝\n",
       "                 </article>,\n",
       " <article class=\"u-gapBottom--max c-articleLimit\" id=\"article_77093097\">\n",
       " <blockquote>攻城獅歪西 wrote:<br/>\n",
       "   請問類似哪種頭呢(恕刪)</blockquote>\n",
       " <br/>\n",
       " <br/>\n",
       " 我先了解一下，測試完跟你說<br/>\n",
       " 之前美圖T9也是拔掉耳機孔\n",
       "                 </article>,\n",
       " <article class=\"u-gapBottom--max c-articleLimit\" id=\"article_77100217\">\n",
       " <blockquote>攻城獅歪西 wrote:<br/>\n",
       " 最近我有一位網紅朋友(恕刪)</blockquote>\n",
       " <br/>\n",
       " <br/>\n",
       " 實測之後<br/>\n",
       " <br/>\n",
       " 確定雙Type-C的不能同步，只能充電或耳機，PD不知道<br/>\n",
       " <br/>\n",
       " 我測了這個可以顯示充電跟耳機同步<br/>\n",
       " <img class=\"lazy\" data-src=\"https://attach.mobile01.com/attach/202004/mobile01-d9491ca26aa6107c1e8a532ec59d4e3e.png\"/><br/>\n",
       " 不過詭異的是一下就跟圖片一樣電流為0，完全根本不像有充電<br/>\n",
       " 重新再裝一次，電流出來了，不過再重裝有可能又沒了，感覺接觸不良，還蠻不穩定的<br/>\n",
       " <br/>\n",
       " <img class=\"lazy\" data-src=\"https://attach.mobile01.com/attach/202004/mobile01-f0ed53399d16e8a848535f79cab2c96e.jpg\"/><br/>\n",
       " <br/>\n",
       " 結論:可以用，但要裝到電流有跑出來才會正常，明天換個轉接頭再試試看\n",
       "                 </article>,\n",
       " <article class=\"u-gapBottom--max c-articleLimit\" id=\"article_77154872\">\n",
       " <blockquote>lengyan wrote:實測之後確定雙Type(恕刪) <br/>\n",
       "  <br/></blockquote>\n",
       "  <br/>\n",
       " 我在測試時也有發現，偶爾可以充電的狀況，我感覺不是接觸不良，而是剛好剛好硬體沒抓到兩個一起插，沒有關閉充電功能，一旦被發現就會關閉充電功能。<img class=\"post-smile\" data-src=\"//attach2.mobile01.com/images/emotions/62.gif\" title=\"鬱卒\"/><img class=\"post-smile\" data-src=\"//attach2.mobile01.com/images/emotions/62.gif\" title=\"鬱卒\"/><img class=\"post-smile\" data-src=\"//attach2.mobile01.com/images/emotions/62.gif\" title=\"鬱卒\"/>\n",
       " </article>,\n",
       " <article class=\"u-gapBottom--max c-articleLimit\" id=\"article_77157016\">\n",
       " <blockquote>攻城獅歪西 wrote:<br/>\n",
       "  我在測試時也有發現(恕刪)</blockquote>\n",
       " <br/>\n",
       " <br/>\n",
       " 我是先接充電線+轉接頭，發現正常後耳機接上，這樣沒有斷電<br/>\n",
       " <br/>\n",
       " 雙Type-C PD種類的馬上只充電不認耳機\n",
       "                 </article>,\n",
       " <article class=\"u-gapBottom--max c-articleLimit\" id=\"article_77174294\">\n",
       " <img class=\"lazy\" data-src=\"https://attach.mobile01.com/attach/202004/mobile01-796c0de52ff480627f07650db0133469.jpg\"/><br/>\n",
       " <br/>\n",
       " <br/>\n",
       " 剛試了一下Type-C轉3.5mm(<font color=\"#FF0000\">一般市面上都有賣那種價格價宜</font>)<br/>\n",
       " 手機型號是:r17 pro<br/>\n",
       " 先把充電線插上轉接頭Type-C，看到有在充電，然後把3.5耳機轉接頭再接上。<br/>\n",
       " 按下手機裡的音樂試聽一下，聲音沒出來，之後又把3.5接拔掉再從插進去再試一次，聲音出來了。<br/>\n",
       " 手機介面上也是有出現充電狀態，耳機拿下來手機放著靜止5~10分鐘再去看是否電量有充進去<br/>\n",
       " 本來是63%之後69%之後再把耳機帶上還是有音樂。\n",
       "                 </article>,\n",
       " <article class=\"u-gapBottom--max c-articleLimit\" id=\"article_77180393\">\n",
       " <blockquote>攻城獅歪西 wrote:<br/>\n",
       " 最近我有一位網紅朋友(恕刪)</blockquote>\n",
       " <br/>\n",
       " <br/>\n",
       " 他的充電是特規的你就一定要挑戰它?\n",
       "                 </article>,\n",
       " <article class=\"u-gapBottom--max c-articleLimit\" id=\"article_77189338\">\n",
       " <blockquote>bee99 wrote:<br/>\n",
       " 剛試了一下Type-C(恕刪)</blockquote>\n",
       " <br/>\n",
       " <br/>\n",
       " 你說的這個我試過，但經過電流表實測一樣是時有時無\n",
       "                 </article>]"
      ]
     },
     "execution_count": 35,
     "metadata": {},
     "output_type": "execute_result"
    }
   ],
   "source": [
    "page = requests.get(\"https://www.mobile01.com/topicdetail.php?f=689&t=6060231\",\n",
    "                 headers = {\"user-agent\":\"Mozilla/5.0 (Windows NT 10.0; Win64; x64) AppleWebKit/537.36 (KHTML, like Gecko) Chrome/80.0.3987.163 Safari/537.36\"})\n",
    "soup = BeautifulSoup(page.text, 'html.parser')\n",
    "a_tag = soup.find_all(\"article\",class_=\"u-gapBottom--max c-articleLimit\")\n",
    "a_tag\n",
    "#for i in a_tag:\n",
    "    #print(i.text)"
   ]
  },
  {
   "cell_type": "code",
   "execution_count": 38,
   "metadata": {},
   "outputs": [
    {
     "data": {
      "text/plain": [
       "['RMX1931',\n",
       " 'Realme C3 5i 6 ?asdfghjkl999 wrote:RMX1931...(恕刪)',\n",
       " '比對岸晚這麼久定價應該要低一點比較合理',\n",
       " 'asdfghjkl999 wrote:RMX1931...(恕刪)請問這台有CA載波聚合嗎？查了網路上的資料，好像沒有CA,還是台灣上市的版本會有呢？',\n",
       " '等很久了，多謝提供資訊',\n",
       " '到這個節骨眼了沒上個5G款似乎.......',\n",
       " '這隻其實還不錯855+90Hz刷新率50W快充有耳機孔',\n",
       " 'pcman2004 wrote:比對岸晚這麼久定價應(恕刪)因為某些因素導致錯失適當時機點，不過至少比蘋果那個叫什麼SE手機，有一點良心不是拿幾年前的零件，在裝個新晶片就拐不懂的人還好意思拿出來賣現在會比較感興趣的是有沒有平價5G手機有上市，還比較有建設性',\n",
       " 'asdfghjkl999 wrote:RMX1931...(恕刪)真的嗎?晚了半年該多点折扣降價表示誠意吧！',\n",
       " '這樣就不用買中階的台版realme了，終於有理由買realme x2 pro,因為855+ 沒用過']"
      ]
     },
     "execution_count": 38,
     "metadata": {},
     "output_type": "execute_result"
    }
   ],
   "source": [
    "#內文\n",
    "\n",
    "page = requests.get(\"https://www.mobile01.com/topicdetail.php?f=689&t=6077192&p\",\n",
    "                 headers = {\"user-agent\":\"Mozilla/5.0 (Windows NT 10.0; Win64; x64) AppleWebKit/537.36 (KHTML, like Gecko) Chrome/80.0.3987.163 Safari/537.36\"})\n",
    "soup = BeautifulSoup(page.text, 'html.parser')\n",
    "#抓內文\n",
    "a_tag = soup.find_all(\"article\")\n",
    "pag_text = []\n",
    "for i in a_tag:\n",
    "    i.text\n",
    "    #刪空白 \\n\n",
    "    t = i.text.replace(\"\\n\", \"\").replace(\"                                \", \"\").replace(\"\\xa0\",\"\").replace(\"                    \",\"\").replace(\"                \",\"\")\n",
    "    pag_text.append(t)\n",
    "\n",
    "\n",
    "pag_text\n",
    "#,class_=\"u-gapBottom--max c-articleLimit\""
   ]
  },
  {
   "cell_type": "code",
   "execution_count": 64,
   "metadata": {},
   "outputs": [
    {
     "data": {
      "text/plain": [
       "[<span class=\"o-fSubMini\">12</span>]"
      ]
     },
     "execution_count": 64,
     "metadata": {},
     "output_type": "execute_result"
    }
   ],
   "source": [
    "\n",
    "page = requests.get(\"https://www.mobile01.com/topicdetail.php?f=689&t=6068837&uid=2975117\",\n",
    "                 headers = {\"user-agent\":\"Mozilla/5.0 (Windows NT 10.0; Win64; x64) AppleWebKit/537.36 (KHTML, like Gecko) Chrome/80.0.3987.163 Safari/537.36\"})\n",
    "soup = BeautifulSoup(page.text, 'html.parser')\n",
    "#抓內文\n",
    "a_tag = soup.select(\".toolclap span\")\n",
    "a_tag"
   ]
  },
  {
   "cell_type": "code",
   "execution_count": 1,
   "metadata": {},
   "outputs": [
    {
     "name": "stdout",
     "output_type": "stream",
     "text": [
      "['https://www.mobile01.com/topicdetail.php?f=689&t=6071550', 'https://www.mobile01.com/topicdetail.php?f=689&t=6060231', 'https://www.mobile01.com/topicdetail.php?f=689&t=6034120', 'https://www.mobile01.com/topicdetail.php?f=689&t=6017652', 'https://www.mobile01.com/topicdetail.php?f=689&t=6013289', 'https://www.mobile01.com/topicdetail.php?f=689&t=5849296', 'https://www.mobile01.com/topicdetail.php?f=689&t=5989530', 'https://www.mobile01.com/topicdetail.php?f=689&t=5962855', 'https://www.mobile01.com/topicdetail.php?f=689&t=5952887', 'https://www.mobile01.com/topicdetail.php?f=689&t=5935432', 'https://www.mobile01.com/topicdetail.php?f=689&t=5914637', 'https://www.mobile01.com/topicdetail.php?f=689&t=5919246', 'https://www.mobile01.com/topicdetail.php?f=689&t=5909457', 'https://www.mobile01.com/topicdetail.php?f=689&t=5888994', 'https://www.mobile01.com/topicdetail.php?f=689&t=5898635', 'https://www.mobile01.com/topicdetail.php?f=689&t=5874619', 'https://www.mobile01.com/topicdetail.php?f=689&t=5851700', 'https://www.mobile01.com/topicdetail.php?f=689&t=5841409', 'https://www.mobile01.com/topicdetail.php?f=689&t=5831138', 'https://www.mobile01.com/topicdetail.php?f=689&t=5822381', 'https://www.mobile01.com/topicdetail.php?f=689&t=5823884', 'https://www.mobile01.com/topicdetail.php?f=689&t=5814557', 'https://www.mobile01.com/topicdetail.php?f=689&t=5814993', 'https://www.mobile01.com/topicdetail.php?f=689&t=5808272', 'https://www.mobile01.com/topicdetail.php?f=689&t=5790512', 'https://www.mobile01.com/topicdetail.php?f=689&t=5779283', 'https://www.mobile01.com/topicdetail.php?f=689&t=5802634']\n",
      "GG\n"
     ]
    }
   ],
   "source": [
    "import requests\n",
    "from bs4 import BeautifulSoup\n",
    "import pandas as pd\n",
    "from urllib.parse import urlparse, parse_qs, urlunparse\n",
    "\n",
    "pag = 1\n",
    "#變數\n",
    "title_text = []\n",
    "URL_text = []\n",
    "peo_text = []\n",
    "potime_text = []\n",
    "pag_text = []\n",
    "\n",
    "while pag <= 152:\n",
    "    url = \"https://www.mobile01.com/topiclist.php?f=689&p=\"+str(pag)\n",
    "#     print(url)\n",
    "#     print(pag)\n",
    "\n",
    "    page = requests.get(url,\n",
    "                        headers = {\"user-agent\":\"Mozilla/5.0 (Windows NT 10.0; Win64; x64) AppleWebKit/537.36 (KHTML, like Gecko) Chrome/80.0.3987.163 Safari/537.36\"})\n",
    "    soup = BeautifulSoup(page.text, 'html.parser')\n",
    "    a_tag = soup.select(\".c-listTableTd__title a.c-link\")#主題標簽\n",
    "    #a_tag = soup.find_all(\"a\",class_=\"c-link u-ellipsis\")\n",
    "#     print(a_tag)\n",
    "    # title_text = []\n",
    "    a_tag1 = soup.select(\"div.o-fMini\")#回應人數標簽\n",
    "    a_tag2 =soup.select(\"div.l-listTable__td:nth-of-type(2) div.o-fNotes\")# 發佈時間\n",
    "    a_tag4 = soup.select(\".l-navigation__item a.c-pagination\")#\n",
    "    # for i in a_tag:\n",
    "    for i in range(len(a_tag)): #判斷是第幾筆\n",
    "#         print(i.text)\n",
    "        if \"10x\" in a_tag[i].text:\n",
    "#             print(a_tag[i].text)\n",
    "#             print(a_tag[i][\"href\"])\n",
    "#             print((a_tag1[i].string))\n",
    "#             print(a_tag2[i].text)\n",
    "\n",
    "            title_text.append(a_tag[i].text)#標題\n",
    "            URL_text.append('https://www.mobile01.com/' + a_tag[i][\"href\"])#網址\n",
    "            peo_text.append(a_tag1[i].string)#回應人數\n",
    "            potime_text.append(a_tag2[i].text)\n",
    "\n",
    "    pag = pag+1\n",
    "#print(title_text)\n",
    "print(URL_text)\n",
    "#print(peo_text)\n",
    "# import csv\n",
    "\n",
    "# 開啟輸出的 CSV 檔案\n",
    "# with open('output.csv', 'w', newline='') as csvfile:\n",
    "#     writer = csv.writer(csvfile)\n",
    "#     writer.writerow([\"發佈時間\",\"主題\",\"回應\"])\n",
    "#     for w,x,y in zip(potime_text,title_text,peo_text):\n",
    "#     \twriter.writerow([w,x,y])\n",
    "\n",
    "print(\"GG\")\n",
    "#內文"
   ]
  },
  {
   "cell_type": "code",
   "execution_count": 13,
   "metadata": {},
   "outputs": [
    {
     "name": "stdout",
     "output_type": "stream",
     "text": [
      "<a class=\"c-pagination\" data-page=\"1\" href=\"/topicdetail.php?f=689&amp;t=6071550\">1</a>\n",
      "<a class=\"c-pagination\" data-page=\"2\" href=\"/topicdetail.php?f=689&amp;t=6071550&amp;p=2\">2</a>\n",
      "<a class=\"c-pagination\" data-page=\"3\" href=\"/topicdetail.php?f=689&amp;t=6071550&amp;p=3\">3</a>\n",
      "<a class=\"c-pagination\" data-page=\"4\" href=\"/topicdetail.php?f=689&amp;t=6071550&amp;p=4\">4</a>\n",
      "<a class=\"c-pagination\" data-page=\"5\" href=\"/topicdetail.php?f=689&amp;t=6071550&amp;p=5\">5</a>\n",
      "<a class=\"c-pagination c-pagination--next\" data-page=\"2\" href=\"/topicdetail.php?f=689&amp;t=6071550&amp;p=2\"></a>\n",
      "<a class=\"c-pagination\" data-page=\"5\" href=\"/topicdetail.php?f=689&amp;t=6071550&amp;p=5\">5</a>\n",
      "potime_text : [1, 2, 3, 4, 5, 2, 5]\n",
      "<a class=\"c-pagination\" data-page=\"1\" href=\"/topicdetail.php?f=689&amp;t=6060231\">1</a>\n",
      "<a class=\"c-pagination\" data-page=\"2\" href=\"/topicdetail.php?f=689&amp;t=6060231&amp;p=2\">2</a>\n",
      "potime_text : [1, 2]\n",
      "<a class=\"c-pagination\" data-page=\"1\" href=\"/topicdetail.php?f=689&amp;t=6034120\">1</a>\n",
      "<a class=\"c-pagination\" data-page=\"2\" href=\"/topicdetail.php?f=689&amp;t=6034120&amp;p=2\">2</a>\n",
      "potime_text : [1, 2]\n",
      "potime_text : []\n",
      "potime_text : []\n",
      "potime_text : []\n",
      "potime_text : []\n",
      "potime_text : []\n",
      "potime_text : []\n",
      "potime_text : []\n",
      "<a class=\"c-pagination\" data-page=\"1\" href=\"/topicdetail.php?f=689&amp;t=5914637\">1</a>\n",
      "<a class=\"c-pagination\" data-page=\"2\" href=\"/topicdetail.php?f=689&amp;t=5914637&amp;p=2\">2</a>\n",
      "potime_text : [1, 2]\n",
      "potime_text : []\n",
      "potime_text : []\n",
      "<a class=\"c-pagination\" data-page=\"1\" href=\"/topicdetail.php?f=689&amp;t=5888994\">1</a>\n",
      "<a class=\"c-pagination\" data-page=\"2\" href=\"/topicdetail.php?f=689&amp;t=5888994&amp;p=2\">2</a>\n",
      "potime_text : [1, 2]\n",
      "potime_text : []\n",
      "potime_text : []\n",
      "<a class=\"c-pagination\" data-page=\"1\" href=\"/topicdetail.php?f=689&amp;t=5851700\">1</a>\n",
      "<a class=\"c-pagination\" data-page=\"2\" href=\"/topicdetail.php?f=689&amp;t=5851700&amp;p=2\">2</a>\n",
      "potime_text : [1, 2]\n",
      "potime_text : []\n",
      "potime_text : []\n",
      "potime_text : []\n",
      "potime_text : []\n",
      "<a class=\"c-pagination\" data-page=\"1\" href=\"/topicdetail.php?f=689&amp;t=5814557\">1</a>\n",
      "<a class=\"c-pagination\" data-page=\"2\" href=\"/topicdetail.php?f=689&amp;t=5814557&amp;p=2\">2</a>\n",
      "potime_text : [1, 2]\n",
      "potime_text : []\n",
      "potime_text : []\n",
      "<a class=\"c-pagination\" data-page=\"1\" href=\"/topicdetail.php?f=689&amp;t=5790512\">1</a>\n",
      "<a class=\"c-pagination\" data-page=\"2\" href=\"/topicdetail.php?f=689&amp;t=5790512&amp;p=2\">2</a>\n",
      "<a class=\"c-pagination\" data-page=\"3\" href=\"/topicdetail.php?f=689&amp;t=5790512&amp;p=3\">3</a>\n",
      "potime_text : [1, 2, 3]\n",
      "<a class=\"c-pagination\" data-page=\"1\" href=\"/topicdetail.php?f=689&amp;t=5779283\">1</a>\n",
      "<a class=\"c-pagination\" data-page=\"2\" href=\"/topicdetail.php?f=689&amp;t=5779283&amp;p=2\">2</a>\n",
      "potime_text : [1, 2]\n",
      "potime_text : []\n",
      "article_pages : [5, 2, 2, 1, 1, 1, 1, 1, 1, 1, 2, 1, 1, 2, 1, 1, 2, 1, 1, 1, 1, 2, 1, 1, 3, 2, 1]\n"
     ]
    }
   ],
   "source": [
    "# 判斷 文章有幾頁\n",
    "\n",
    "article_text = []\n",
    "potime_text = []\n",
    "webpags = 0\n",
    "article_pages = []\n",
    "# url = \"https://www.mobile01.com/topicdetail.php?f=689&t=6071550\"\n",
    "#https://www.mobile01.com/topicdetail.php?f=689&t=6057628&p=2\n",
    "# 文章頁數 article_pages\n",
    "# i = 1 開始頁數第一頁\n",
    "# while i <= article_pages:\n",
    "\n",
    "#########################################\n",
    "for url in URL_text:\n",
    "    page = requests.get(url,\n",
    "                     headers = {\"user-agent\":\"Mozilla/5.0 (Windows NT 10.0; Win64; x64) AppleWebKit/537.36 (KHTML, like Gecko) Chrome/80.0.3987.163 Safari/537.36\"})\n",
    "    soup = BeautifulSoup(page.text, 'html.parser')\n",
    "    # a_tag4 = soup.select(\".l-jumpList li:nth-of-type(n+2)\")\n",
    "    a_tag4 = soup.select(\".l-navigation__item a.c-pagination\")\n",
    "    potime_text = []\n",
    "    for i in a_tag4:\n",
    "        print(i)\n",
    "        potime_text.append(int(i[\"data-page\"]))\n",
    "    print(\"potime_text :\",potime_text)\n",
    "     # 如果 頁碼 是空直 就等於1\n",
    "    if potime_text == [] :\n",
    "        potime_text.append(1)\n",
    "        article_pages.append (max(potime_text))\n",
    "    else:\n",
    "        article_pages.append (max(potime_text))\n",
    "print(\"article_pages :\",article_pages)"
   ]
  },
  {
   "cell_type": "code",
   "execution_count": 14,
   "metadata": {},
   "outputs": [
    {
     "name": "stdout",
     "output_type": "stream",
     "text": [
      "[5, 2, 2, 1, 1, 1, 1, 1, 1, 1, 2, 1, 1, 2, 1, 1, 2, 1, 1, 1, 1, 2, 1, 1, 3, 2, 1]\n",
      "pages https://www.mobile01.com/topicdetail.php?f=689&t=6071550&p=1\n",
      "pages https://www.mobile01.com/topicdetail.php?f=689&t=6071550&p=2\n",
      "pages https://www.mobile01.com/topicdetail.php?f=689&t=6071550&p=3\n",
      "pages https://www.mobile01.com/topicdetail.php?f=689&t=6071550&p=4\n",
      "pages https://www.mobile01.com/topicdetail.php?f=689&t=6071550&p=5\n",
      "pages https://www.mobile01.com/topicdetail.php?f=689&t=6060231&p=1\n",
      "pages https://www.mobile01.com/topicdetail.php?f=689&t=6060231&p=2\n",
      "pages https://www.mobile01.com/topicdetail.php?f=689&t=6034120&p=1\n",
      "pages https://www.mobile01.com/topicdetail.php?f=689&t=6034120&p=2\n",
      "pages https://www.mobile01.com/topicdetail.php?f=689&t=6017652&p=1\n",
      "pages https://www.mobile01.com/topicdetail.php?f=689&t=6013289&p=1\n",
      "pages https://www.mobile01.com/topicdetail.php?f=689&t=5849296&p=1\n",
      "pages https://www.mobile01.com/topicdetail.php?f=689&t=5989530&p=1\n",
      "pages https://www.mobile01.com/topicdetail.php?f=689&t=5962855&p=1\n",
      "pages https://www.mobile01.com/topicdetail.php?f=689&t=5952887&p=1\n",
      "pages https://www.mobile01.com/topicdetail.php?f=689&t=5935432&p=1\n",
      "pages https://www.mobile01.com/topicdetail.php?f=689&t=5914637&p=1\n",
      "pages https://www.mobile01.com/topicdetail.php?f=689&t=5914637&p=2\n",
      "pages https://www.mobile01.com/topicdetail.php?f=689&t=5919246&p=1\n",
      "pages https://www.mobile01.com/topicdetail.php?f=689&t=5909457&p=1\n",
      "pages https://www.mobile01.com/topicdetail.php?f=689&t=5888994&p=1\n",
      "pages https://www.mobile01.com/topicdetail.php?f=689&t=5888994&p=2\n",
      "pages https://www.mobile01.com/topicdetail.php?f=689&t=5898635&p=1\n",
      "pages https://www.mobile01.com/topicdetail.php?f=689&t=5874619&p=1\n",
      "pages https://www.mobile01.com/topicdetail.php?f=689&t=5851700&p=1\n",
      "pages https://www.mobile01.com/topicdetail.php?f=689&t=5851700&p=2\n",
      "pages https://www.mobile01.com/topicdetail.php?f=689&t=5841409&p=1\n",
      "pages https://www.mobile01.com/topicdetail.php?f=689&t=5831138&p=1\n",
      "pages https://www.mobile01.com/topicdetail.php?f=689&t=5822381&p=1\n",
      "pages https://www.mobile01.com/topicdetail.php?f=689&t=5823884&p=1\n",
      "pages https://www.mobile01.com/topicdetail.php?f=689&t=5814557&p=1\n",
      "pages https://www.mobile01.com/topicdetail.php?f=689&t=5814557&p=2\n",
      "pages https://www.mobile01.com/topicdetail.php?f=689&t=5814993&p=1\n",
      "pages https://www.mobile01.com/topicdetail.php?f=689&t=5808272&p=1\n",
      "pages https://www.mobile01.com/topicdetail.php?f=689&t=5790512&p=1\n",
      "pages https://www.mobile01.com/topicdetail.php?f=689&t=5790512&p=2\n",
      "pages https://www.mobile01.com/topicdetail.php?f=689&t=5790512&p=3\n",
      "pages https://www.mobile01.com/topicdetail.php?f=689&t=5779283&p=1\n",
      "pages https://www.mobile01.com/topicdetail.php?f=689&t=5779283&p=2\n",
      "pages https://www.mobile01.com/topicdetail.php?f=689&t=5802634&p=1\n"
     ]
    }
   ],
   "source": [
    "webpags = 0\n",
    "print(article_pages)\n",
    "# sequences = ['https://www.mobile01.com/topicdetail.php?f=689&t=6071550', 'https://www.mobile01.com/topicdetail.php?f=689&t=6060231', 'https://www.mobile01.com/topicdetail.php?f=689&t=6034120', 'https://www.mobile01.com/topicdetail.php?f=689&t=6017652', 'https://www.mobile01.com/topicdetail.php?f=689&t=6013289', 'https://www.mobile01.com/topicdetail.php?f=689&t=5849296', 'https://www.mobile01.com/topicdetail.php?f=689&t=5989530', 'https://www.mobile01.com/topicdetail.php?f=689&t=5962855', 'https://www.mobile01.com/topicdetail.php?f=689&t=5952887', 'https://www.mobile01.com/topicdetail.php?f=689&t=5935432', 'https://www.mobile01.com/topicdetail.php?f=689&t=5914637', 'https://www.mobile01.com/topicdetail.php?f=689&t=5919246', 'https://www.mobile01.com/topicdetail.php?f=689&t=5909457', 'https://www.mobile01.com/topicdetail.php?f=689&t=5888994', 'https://www.mobile01.com/topicdetail.php?f=689&t=5898635', 'https://www.mobile01.com/topicdetail.php?f=689&t=5874619', 'https://www.mobile01.com/topicdetail.php?f=689&t=5851700', 'https://www.mobile01.com/topicdetail.php?f=689&t=5841409', 'https://www.mobile01.com/topicdetail.php?f=689&t=5831138', 'https://www.mobile01.com/topicdetail.php?f=689&t=5822381', 'https://www.mobile01.com/topicdetail.php?f=689&t=5823884', 'https://www.mobile01.com/topicdetail.php?f=689&t=5814557', 'https://www.mobile01.com/topicdetail.php?f=689&t=5814993', 'https://www.mobile01.com/topicdetail.php?f=689&t=5808272', 'https://www.mobile01.com/topicdetail.php?f=689&t=5790512', 'https://www.mobile01.com/topicdetail.php?f=689&t=5779283', 'https://www.mobile01.com/topicdetail.php?f=689&t=5802634']\n",
    "for i in range (len(URL_text)):\n",
    "    for k in range (article_pages[i]):\n",
    "        pages = (str(sequences[i])+\"&p=\"+str(k+1))\n",
    "        print(\"pages\",pages)"
   ]
  },
  {
   "cell_type": "code",
   "execution_count": 25,
   "metadata": {},
   "outputs": [
    {
     "name": "stdout",
     "output_type": "stream",
     "text": [
      "['如題，前幾天在XDA看到有人VPN到印度就可以得到正式更新(不是嘗鮮連結)，因為不知道台灣還要等多久，於是就跟著嘗鮮了!我是用 \"VPN India\" APP，語言切到英語就可以更新了，不過這個VPN速度有夠慢，所以不是一次就成功，伺服器切換了將近10次才成功。然後一旦的得到更新訊息，再斷掉VPN即可繼續下載。更新完有重置過，目前用了兩天了，蠻穩定的也沒什麼怪現象，耗電沒異常。個人覺得最重要的是，1. 相機人像虛化可以調程度，而且錄影也可以虛化了。2. 錄影補上 Ultra steady mode。3. 相機補上 極夜模式。4. 鏡頭預設6倍變5倍。其他變化大概就是心靈效能提升吧', 'aasuetw wrote:如題，前幾天在XDA...(恕刪)剛剛試了大概不下100次，沒那麼好運氣，一直沒有更新，我只是想要深色模式啊啊啊啊啊', '小蔣 wrote:剛剛試了大概不下100(恕刪)在連上VPN後建議你去google隨便找個查看自己IP跟區域的網頁，先確認目前的IP位置是否在印度。我之前試過有些VPN，但發現連上後IP竟然還在台灣真是怪，但免費的也不能說什麼', '先前詢問過客服親愛的 OPPO 客戶，您好：感謝您聯繫OPPO客服中心，關於您來信詢問：ColorOS 7/Anoroid 10升級 一事，與您說明，OPPO Reno 10x Zoom以及OPPO Find X的ColorOS 7/Anoroid 10試用版將於2020年上半年在新加坡和台灣地區開始，還請您留意後續推播通知更新，謝謝您。', 'aasuetw wrote:如題，前幾天在XDA...(恕刪)來來回回至少20次不管換哪種都一樣我都懷疑此消息的真實性XDA我也看過了，內文幾乎沒甚麼變化 呵呵', '孫建平 wrote:來來回回至少20次不(恕刪)我已經更新過了當初也是試了幾次都沒辦法更新後來重開機再試就成功了可以試看看下面這兩個APP', '有看到中國網友更新後覺得拍照的成像不如舊版的好，雖然多了很多新功能包括極夜模式、超級防抖、腳架模式，可是拍照的成像似乎不如舊版本理想，想請問已經成功更新的各位有發現這個情況嗎', 'holyjeff wrote:我已經更新過了當初也...(恕刪)昨天試過了....一樣得問題呢..', '我4/13就用此方式跳印度一次就出現更新，且升級成功了😁目前用下來都沒什麼大問題，拍照部分我反而覺得變好耶，奇怪 😂😂暗色模式真的好用！！剩下都還在觀察', '之前買的時候 也收不到之後的更新VPN過去後正常，之後都是VPN更新過去的樣子，真得受不了每次都要VPN的日子', '如題，前幾天在XDA看到有人VPN到印度就可以得到正式更新(不是嘗鮮連結)，因為不知道台灣還要等多久，於是就跟著嘗鮮了!我是用 \"VPN India\" APP，語言切到英語就可以更新了，不過這個VPN速度有夠慢，所以不是一次就成功，伺服器切換了將近10次才成功。然後一旦的得到更新訊息，再斷掉VPN即可繼續下載。更新完有重置過，目前用了兩天了，蠻穩定的也沒什麼怪現象，耗電沒異常。個人覺得最重要的是，1. 相機人像虛化可以調程度，而且錄影也可以虛化了。2. 錄影補上 Ultra steady mode。3. 相機補上 極夜模式。4. 鏡頭預設6倍變5倍。其他變化大概就是心靈效能提升吧', 'aasuetw wrote:如題，前幾天在XDA...(恕刪)剛剛試了大概不下100次，沒那麼好運氣，一直沒有更新，我只是想要深色模式啊啊啊啊啊', '小蔣 wrote:剛剛試了大概不下100(恕刪)在連上VPN後建議你去google隨便找個查看自己IP跟區域的網頁，先確認目前的IP位置是否在印度。我之前試過有些VPN，但發現連上後IP竟然還在台灣真是怪，但免費的也不能說什麼', '先前詢問過客服親愛的 OPPO 客戶，您好：感謝您聯繫OPPO客服中心，關於您來信詢問：ColorOS 7/Anoroid 10升級 一事，與您說明，OPPO Reno 10x Zoom以及OPPO Find X的ColorOS 7/Anoroid 10試用版將於2020年上半年在新加坡和台灣地區開始，還請您留意後續推播通知更新，謝謝您。', 'aasuetw wrote:如題，前幾天在XDA...(恕刪)來來回回至少20次不管換哪種都一樣我都懷疑此消息的真實性XDA我也看過了，內文幾乎沒甚麼變化 呵呵', '孫建平 wrote:來來回回至少20次不(恕刪)我已經更新過了當初也是試了幾次都沒辦法更新後來重開機再試就成功了可以試看看下面這兩個APP', '有看到中國網友更新後覺得拍照的成像不如舊版的好，雖然多了很多新功能包括極夜模式、超級防抖、腳架模式，可是拍照的成像似乎不如舊版本理想，想請問已經成功更新的各位有發現這個情況嗎', 'holyjeff wrote:我已經更新過了當初也...(恕刪)昨天試過了....一樣得問題呢..', '我4/13就用此方式跳印度一次就出現更新，且升級成功了😁目前用下來都沒什麼大問題，拍照部分我反而覺得變好耶，奇怪 😂😂暗色模式真的好用！！剩下都還在觀察', '之前買的時候 也收不到之後的更新VPN過去後正常，之後都是VPN更新過去的樣子，真得受不了每次都要VPN的日子']\n",
      "結束\n"
     ]
    }
   ],
   "source": [
    "#抓內文\n",
    "\n",
    "page = requests.get(\"https://www.mobile01.com/topicdetail.php?f=689&t=6071550&p=1\",\n",
    "                headers = {\"user-agent\":\"Mozilla/5.0 (Windows NT 10.0; Win64; x64) AppleWebKit/537.36 (KHTML, like Gecko) Chrome/80.0.3987.163 Safari/537.36\"})\n",
    "soup = BeautifulSoup(page.text, 'html.parser')\n",
    "a_tag3 = soup.find_all(\"article\")#內文\n",
    "\n",
    "# for i in (len(a_tag3)):\n",
    "#     article_text.append(a_tag3[i].text.replace(\"\\n\", \"\").replace(\"                                \", \"\")\n",
    "#                         .replace(\"\\xa0\",\"\").replace(\"                    \",\"\").replace(\"                \",\"\"))\n",
    "# print(article_text)\n",
    "# print(\"結束\")\n",
    "for i in a_tag3:\n",
    "    article_text.append(i.text.replace(\"\\n\", \"\").replace(\"                                \", \"\")\n",
    "                        .replace(\"\\xa0\",\"\").replace(\"                    \",\"\").replace(\"                \",\"\"))\n",
    "print(article_text)\n",
    "print(\"結束\")"
   ]
  },
  {
   "cell_type": "code",
   "execution_count": 26,
   "metadata": {},
   "outputs": [
    {
     "name": "stdout",
     "output_type": "stream",
     "text": [
      "['如題，前幾天在XDA看到有人VPN到印度就可以得到正式更新(不是嘗鮮連結)，因為不知道台灣還要等多久，於是就跟著嘗鮮了!我是用 \"VPN India\" APP，語言切到英語就可以更新了，不過這個VPN速度有夠慢，所以不是一次就成功，伺服器切換了將近10次才成功。然後一旦的得到更新訊息，再斷掉VPN即可繼續下載。更新完有重置過，目前用了兩天了，蠻穩定的也沒什麼怪現象，耗電沒異常。個人覺得最重要的是，1. 相機人像虛化可以調程度，而且錄影也可以虛化了。2. 錄影補上 Ultra steady mode。3. 相機補上 極夜模式。4. 鏡頭預設6倍變5倍。其他變化大概就是心靈效能提升吧', 'aasuetw wrote:如題，前幾天在XDA...(恕刪)剛剛試了大概不下100次，沒那麼好運氣，一直沒有更新，我只是想要深色模式啊啊啊啊啊', '小蔣 wrote:剛剛試了大概不下100(恕刪)在連上VPN後建議你去google隨便找個查看自己IP跟區域的網頁，先確認目前的IP位置是否在印度。我之前試過有些VPN，但發現連上後IP竟然還在台灣真是怪，但免費的也不能說什麼', '先前詢問過客服親愛的 OPPO 客戶，您好：感謝您聯繫OPPO客服中心，關於您來信詢問：ColorOS 7/Anoroid 10升級 一事，與您說明，OPPO Reno 10x Zoom以及OPPO Find X的ColorOS 7/Anoroid 10試用版將於2020年上半年在新加坡和台灣地區開始，還請您留意後續推播通知更新，謝謝您。', 'aasuetw wrote:如題，前幾天在XDA...(恕刪)來來回回至少20次不管換哪種都一樣我都懷疑此消息的真實性XDA我也看過了，內文幾乎沒甚麼變化 呵呵', '孫建平 wrote:來來回回至少20次不(恕刪)我已經更新過了當初也是試了幾次都沒辦法更新後來重開機再試就成功了可以試看看下面這兩個APP', '有看到中國網友更新後覺得拍照的成像不如舊版的好，雖然多了很多新功能包括極夜模式、超級防抖、腳架模式，可是拍照的成像似乎不如舊版本理想，想請問已經成功更新的各位有發現這個情況嗎', 'holyjeff wrote:我已經更新過了當初也...(恕刪)昨天試過了....一樣得問題呢..', '我4/13就用此方式跳印度一次就出現更新，且升級成功了😁目前用下來都沒什麼大問題，拍照部分我反而覺得變好耶，奇怪 😂😂暗色模式真的好用！！剩下都還在觀察', '之前買的時候 也收不到之後的更新VPN過去後正常，之後都是VPN更新過去的樣子，真得受不了每次都要VPN的日子', '如題，前幾天在XDA看到有人VPN到印度就可以得到正式更新(不是嘗鮮連結)，因為不知道台灣還要等多久，於是就跟著嘗鮮了!我是用 \"VPN India\" APP，語言切到英語就可以更新了，不過這個VPN速度有夠慢，所以不是一次就成功，伺服器切換了將近10次才成功。然後一旦的得到更新訊息，再斷掉VPN即可繼續下載。更新完有重置過，目前用了兩天了，蠻穩定的也沒什麼怪現象，耗電沒異常。個人覺得最重要的是，1. 相機人像虛化可以調程度，而且錄影也可以虛化了。2. 錄影補上 Ultra steady mode。3. 相機補上 極夜模式。4. 鏡頭預設6倍變5倍。其他變化大概就是心靈效能提升吧', 'aasuetw wrote:如題，前幾天在XDA...(恕刪)剛剛試了大概不下100次，沒那麼好運氣，一直沒有更新，我只是想要深色模式啊啊啊啊啊', '小蔣 wrote:剛剛試了大概不下100(恕刪)在連上VPN後建議你去google隨便找個查看自己IP跟區域的網頁，先確認目前的IP位置是否在印度。我之前試過有些VPN，但發現連上後IP竟然還在台灣真是怪，但免費的也不能說什麼', '先前詢問過客服親愛的 OPPO 客戶，您好：感謝您聯繫OPPO客服中心，關於您來信詢問：ColorOS 7/Anoroid 10升級 一事，與您說明，OPPO Reno 10x Zoom以及OPPO Find X的ColorOS 7/Anoroid 10試用版將於2020年上半年在新加坡和台灣地區開始，還請您留意後續推播通知更新，謝謝您。', 'aasuetw wrote:如題，前幾天在XDA...(恕刪)來來回回至少20次不管換哪種都一樣我都懷疑此消息的真實性XDA我也看過了，內文幾乎沒甚麼變化 呵呵', '孫建平 wrote:來來回回至少20次不(恕刪)我已經更新過了當初也是試了幾次都沒辦法更新後來重開機再試就成功了可以試看看下面這兩個APP', '有看到中國網友更新後覺得拍照的成像不如舊版的好，雖然多了很多新功能包括極夜模式、超級防抖、腳架模式，可是拍照的成像似乎不如舊版本理想，想請問已經成功更新的各位有發現這個情況嗎', 'holyjeff wrote:我已經更新過了當初也...(恕刪)昨天試過了....一樣得問題呢..', '我4/13就用此方式跳印度一次就出現更新，且升級成功了😁目前用下來都沒什麼大問題，拍照部分我反而覺得變好耶，奇怪 😂😂暗色模式真的好用！！剩下都還在觀察', '之前買的時候 也收不到之後的更新VPN過去後正常，之後都是VPN更新過去的樣子，真得受不了每次都要VPN的日子', 'aasuetw wrote:如題，前幾天在XDA...(恕刪)請問英文要選那一個版本的英文語言 謝謝', 'sakray823 wrote:請問英文要選那一個版(恕刪)我自己是用美國的英文(United States)。XDA出處連結XDA 原PO文者也是CPH1919TW，所以我猜應該也是台灣人，但他是說要切到印度文，不過我正好相反，先切印度文不行後來切到英文就可以!!不然大大也可以切到印度文試試，不過設定裡的位置要記得，不然印度文看不懂很麻煩', 'aasuetw wrote:我自己是用美國的英文...(恕刪)不管怎麼切都一樣，就算跟官方反映也只會消極回覆，唉', 'aasuetw wrote:我自己是用美國的英文...(恕刪)切了英文跟印度文都一樣無法因該是被關閉了吧！連上要一直重複按更新直到出現為止嗎？', 'sakray823 wrote:切了英文跟印度文都一(恕刪)有些VPN不是很穩，所以連上第一件事不是急著進到更新，而是要先確認IP是否已變為印度當地IP，可以去google查myip，基本上第二個或第三個連結可以試試，如果Reload兩三次都是 ERR_CONNECTION_CLOSED，建議換個VPN server再試試。如果可以出現網頁,並顯示IP所在地為India，再切到設定裡的更新試試。以上是我的經驗tips，若真不行，那真的只能等台灣更新了。', 'aasuetw wrote:有些VPN不是很穩，...(恕刪)前幾天試了好幾天都不行，今天連到hinet的wifi熱點，再開VPN app連到印度，上網打myip也確定在印度。選英文，再連結升級....一樣不行。感覺是關閉升級了。', 'TaichungLee wrote:前幾天試了好幾天都不...(恕刪)持續追蹤：目前有更新，不過是A.20，真得不能期待....', '請問一下，這個版本可以用 PD 模式充電了嗎？，謝謝 ', 'fufu1117 wrote:請問一下，這個版本可...(恕刪)根據微博那邊的說法，OPPO工程部是說不會實裝。', 'fufu1117 wrote:請問一下，這個版本可(恕刪)應該還是沒有用VOOC3.0充電時約14W左右用支援PD/QC充電器充電時約8W左右用5V/2A充電器充電時約9W左右']\n",
      "結束\n"
     ]
    }
   ],
   "source": [
    "page = requests.get(\"https://www.mobile01.com/topicdetail.php?f=689&t=6071550&p=2\",\n",
    "                headers = {\"user-agent\":\"Mozilla/5.0 (Windows NT 10.0; Win64; x64) AppleWebKit/537.36 (KHTML, like Gecko) Chrome/80.0.3987.163 Safari/537.36\"})\n",
    "soup = BeautifulSoup(page.text, 'html.parser')\n",
    "a_tag3 = soup.find_all(\"article\")#內文\n",
    "\n",
    "# for i in (len(a_tag3)):\n",
    "#     article_text.append(a_tag3[i].text.replace(\"\\n\", \"\").replace(\"                                \", \"\")\n",
    "#                         .replace(\"\\xa0\",\"\").replace(\"                    \",\"\").replace(\"                \",\"\"))\n",
    "# print(article_text)\n",
    "# print(\"結束\")\n",
    "for i in a_tag3:\n",
    "    article_text.append(i.text.replace(\"\\n\", \"\").replace(\"                                \", \"\")\n",
    "                        .replace(\"\\xa0\",\"\").replace(\"                    \",\"\").replace(\"                \",\"\"))\n",
    "print(article_text)\n",
    "print(\"結束\")"
   ]
  },
  {
   "cell_type": "code",
   "execution_count": null,
   "metadata": {},
   "outputs": [],
   "source": []
  }
 ],
 "metadata": {
  "kernelspec": {
   "display_name": "Python 3",
   "language": "python",
   "name": "python3"
  },
  "language_info": {
   "codemirror_mode": {
    "name": "ipython",
    "version": 3
   },
   "file_extension": ".py",
   "mimetype": "text/x-python",
   "name": "python",
   "nbconvert_exporter": "python",
   "pygments_lexer": "ipython3",
   "version": "3.7.6"
  }
 },
 "nbformat": 4,
 "nbformat_minor": 2
}
