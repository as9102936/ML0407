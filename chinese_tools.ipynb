{
 "cells": [
  {
   "cell_type": "code",
   "execution_count": 3,
   "metadata": {},
   "outputs": [],
   "source": [
    "with open(\"test.txt\", \"r\", encoding=\"utf-8\")as f:\n",
    "    article = f.read()\n"
   ]
  },
  {
   "cell_type": "code",
   "execution_count": 4,
   "metadata": {
    "scrolled": false
   },
   "outputs": [
    {
     "data": {
      "text/plain": [
       "'這一次疫情無論如何收場，這個世界已經發生變化，生活也發生了變化，\\n人也會改變與周圍環境的關係，慶幸的是到最後，一切變化都會是積極的，\\n“吃一塹長一智”，經歷過這次事件人類會再一次大踏步向前。這是我們對人類的信任，\\n對世界的信任，更是對國家的信任。任何事情都有第一次，只要不被它嚇倒打敗，而且以最快速度覺醒過來\\n，用智慧去應對它，一切經驗教訓的總結都是更好未來的起點。當然，我們付出了代價，\\n不少人的生命財產受到嚴重傷害，這是大家感到惋惜的，這個為進步而交的學費有點太大\\n，它警醒我們要跟大自然打好交道，要對大自然心懷敬畏。'"
      ]
     },
     "execution_count": 4,
     "metadata": {},
     "output_type": "execute_result"
    }
   ],
   "source": [
    "# opencc-python-reimplemented\n",
    "from opencc import OpenCC\n",
    "cc = OpenCC('s2tw')# ('s2tw') Simplified Chinese to Traditional Chinese (Taiwan standard)\n",
    "# convert from Simplified Chinese to Traditional Chinese\n",
    "# can also set conversion by calling set_conversion\n",
    "# cc.set_conversion('s2tw')\n",
    "converted = cc.convert(article)\n",
    "converted"
   ]
  },
  {
   "cell_type": "code",
   "execution_count": 14,
   "metadata": {},
   "outputs": [],
   "source": [
    "# MAC\n",
    "import ssl\n",
    "ssl._create_default_https_context = ssl._create_unverified_context"
   ]
  },
  {
   "cell_type": "code",
   "execution_count": 18,
   "metadata": {},
   "outputs": [
    {
     "name": "stderr",
     "output_type": "stream",
     "text": [
      "Building prefix dict from C:\\Users\\user\\PycharmProjects\\MLD\\dict.txt.big ...\n",
      "Loading model from cache C:\\Users\\user\\AppData\\Local\\Temp\\jieba.u55c1a971d65c90b7c9665cb9ffe9a060.cache\n",
      "Loading model cost 1.185 seconds.\n",
      "Prefix dict has been built successfully.\n"
     ]
    },
    {
     "data": {
      "text/plain": [
       "'这 一次 疫情 无论如何 收场 ， 这个 世界 已经 发生变化 ， 生活 也 发生 了 变化 ， \\n 人 也 会 改变 与 周围环境 的 关系 ， 庆幸 的 是 到 最后 ， 一切 变化 都 会 是 积极 的 ， \\n “ 吃一堑长一智 ” ， 经历 过 这次 事件 人类 会 再 一次 大踏步 向前 。 这是 我们 对 人类 的 信任 ， \\n 对 世界 的 信任 ， 更是 对 国家 的 信任 。 任何 事情 都 有 第一次 ， 只要 不 被 它 吓倒 打败 ， 而且 以 最快 速度 觉醒 过来 \\n ， 用 智慧 去 应对 它 ， 一切 经验教训 的 总结 都 是 更好 未来 的 起点 。 当然 ， 我们 付出 了 代价 ， \\n 不少 人 的 生命财产 受到 严重 伤害 ， 这是 大家 感到 惋惜 的 ， 这个 为 进步 而交 的 学费 有点 太 大 \\n ， 它 警醒 我们 要 跟 大自然 打 好 交道 ， 要 对 大自然 心怀 敬畏 。'"
      ]
     },
     "execution_count": 18,
     "metadata": {},
     "output_type": "execute_result"
    }
   ],
   "source": [
    "import os\n",
    "import jieba\n",
    "from urllib.request import urlretrieve\n",
    "\n",
    "if not os.path.exists(\"dict.txt.big\"):\n",
    "    print(\"[1st time] 下載大辭典\")\n",
    "    url =\"https://github.com/fxsjy/jieba/raw/master/extra_dict/dict.txt.big\"\n",
    "    urlretrieve(url, \"dict.txt.big\")\n",
    "with open(\"test.txt\", \"r\", encoding=\"utf-8\")as f:\n",
    "    article = f.read()\n",
    "    \n",
    "jieba.set_dictionary(\"dict.txt.big\")\n",
    "jieba.load_userdict(\"politics_dict.txt\")   \n",
    "\" \".join(jieba.cut(article))# 用空格來分詞"
   ]
  },
  {
   "cell_type": "code",
   "execution_count": 19,
   "metadata": {},
   "outputs": [
    {
     "data": {
      "text/plain": [
       "['我們',\n",
       " '這個',\n",
       " '變化',\n",
       " '人類',\n",
       " '這是',\n",
       " '信任',\n",
       " '大自然',\n",
       " '無論如何',\n",
       " '收場',\n",
       " '已經',\n",
       " '發生變化',\n",
       " '發生',\n",
       " '改變',\n",
       " '周圍環境',\n",
       " '關係',\n",
       " '慶幸',\n",
       " '最後',\n",
       " '積極',\n",
       " '吃一塹長一智',\n",
       " '經歷']"
      ]
     },
     "execution_count": 19,
     "metadata": {},
     "output_type": "execute_result"
    }
   ],
   "source": [
    "from jieba.analyse import extract_tags\n",
    "extract_tags(converted)"
   ]
  },
  {
   "cell_type": "code",
   "execution_count": null,
   "metadata": {},
   "outputs": [],
   "source": []
  }
 ],
 "metadata": {
  "kernelspec": {
   "display_name": "Python 3",
   "language": "python",
   "name": "python3"
  },
  "language_info": {
   "codemirror_mode": {
    "name": "ipython",
    "version": 3
   },
   "file_extension": ".py",
   "mimetype": "text/x-python",
   "name": "python",
   "nbconvert_exporter": "python",
   "pygments_lexer": "ipython3",
   "version": "3.7.6"
  }
 },
 "nbformat": 4,
 "nbformat_minor": 4
}
